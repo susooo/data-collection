{
  "nbformat": 4,
  "nbformat_minor": 0,
  "metadata": {
    "colab": {
      "name": "CSS selector.ipynb",
      "provenance": [],
      "authorship_tag": "ABX9TyMzO6cIOUZKc9CgYVqXcxn1",
      "include_colab_link": true
    },
    "kernelspec": {
      "name": "python3",
      "display_name": "Python 3"
    },
    "language_info": {
      "name": "python"
    }
  },
  "cells": [
    {
      "cell_type": "markdown",
      "metadata": {
        "id": "view-in-github",
        "colab_type": "text"
      },
      "source": [
        "<a href=\"https://colab.research.google.com/github/susooo/data-collection/blob/main/CSS_selector.ipynb\" target=\"_parent\"><img src=\"https://colab.research.google.com/assets/colab-badge.svg\" alt=\"Open In Colab\"/></a>"
      ]
    },
    {
      "cell_type": "markdown",
      "source": [
        "###**1. CSS selector 적용1 -> 태그 선택**"
      ],
      "metadata": {
        "id": "O6F0jHx1bjIO"
      }
    },
    {
      "cell_type": "code",
      "execution_count": 21,
      "metadata": {
        "colab": {
          "base_uri": "https://localhost:8080/"
        },
        "id": "cdQ9MFDuVuag",
        "outputId": "7ddbc7de-d9b9-407a-e5c6-1ff10a994ce2"
      },
      "outputs": [
        {
          "output_type": "stream",
          "name": "stdout",
          "text": [
            "CSS Tutorial\n"
          ]
        }
      ],
      "source": [
        "#1 라이브러리 임포트\n",
        "import requests\n",
        "from bs4 import BeautifulSoup\n",
        "#2 웹페이지 지정\n",
        "res = requests.get('https://www.w3schools.com/css/')\n",
        "#3 웹페이지 파싱\n",
        "soup = BeautifulSoup(res.content, \"html.parser\")\n",
        "#4 태그로 검색하여 필요한 데이터 추출\n",
        "data = soup.select('h1')\n",
        "for item in data:\n",
        "  print(item.get_text())"
      ]
    },
    {
      "cell_type": "markdown",
      "source": [
        "###**2. CSS selector 적용2 -> 하위 태그 선택**"
      ],
      "metadata": {
        "id": "i38mSuZ7bof8"
      }
    },
    {
      "cell_type": "code",
      "source": [
        "data = soup.select('div h1')\n",
        "for item in data:\n",
        "  print(item.get_text())"
      ],
      "metadata": {
        "colab": {
          "base_uri": "https://localhost:8080/"
        },
        "id": "6aZR1OlKbgP_",
        "outputId": "151b717e-3ead-4aad-bb29-d671f0a696f0"
      },
      "execution_count": 6,
      "outputs": [
        {
          "output_type": "stream",
          "name": "stdout",
          "text": [
            "CSS Tutorial\n"
          ]
        }
      ]
    },
    {
      "cell_type": "markdown",
      "source": [
        "###**3. CSS selector 적용3 -> css class 이름으로 검색**"
      ],
      "metadata": {
        "id": "8jgrTwF7bsHa"
      }
    },
    {
      "cell_type": "code",
      "source": [
        "data = soup.select('.w3-panel.w3-info.intro')\n",
        "for item in data:\n",
        "  print(item.get_text())"
      ],
      "metadata": {
        "colab": {
          "base_uri": "https://localhost:8080/"
        },
        "id": "GQ2n5fwzbvbD",
        "outputId": "594eebbd-f541-4a8d-b43c-547ab96f1ffe"
      },
      "execution_count": 10,
      "outputs": [
        {
          "output_type": "stream",
          "name": "stdout",
          "text": [
            "\n",
            "CSS is the language we use to style an HTML document.\n",
            "CSS describes how HTML elements should be displayed.\n",
            "This tutorial will teach you CSS from basic to advanced.\n",
            "Start learning CSS now »\n",
            "\n"
          ]
        }
      ]
    },
    {
      "cell_type": "markdown",
      "source": [
        "###**4. CSS selector 적용4 -> id 이름으로 검색**"
      ],
      "metadata": {
        "id": "Yd9DcCIQicbO"
      }
    },
    {
      "cell_type": "code",
      "source": [
        "data = soup.select('#pagetop')\n",
        "for item in data:\n",
        "  print(item.get_text())"
      ],
      "metadata": {
        "colab": {
          "base_uri": "https://localhost:8080/"
        },
        "id": "q6B6SmxLg0Yj",
        "outputId": "dea9d31b-c10a-4f28-d791-cd171628502c"
      },
      "execution_count": 11,
      "outputs": [
        {
          "output_type": "stream",
          "name": "stdout",
          "text": [
            "\n",
            "\n",
            "\n",
            "\n",
            "\n",
            ".topnavmain_pro {\n",
            "  background-color:#282A35;\n",
            "  color:#fff;\n",
            "}\n",
            "body.darkpagetheme .topnavmain_pro {\n",
            "  background-color:#fff;\n",
            "  color:#000;\n",
            "}\n",
            "@media screen and (max-width: 1160px) {\n",
            "  .ws-hide-1160 {\n",
            "    display: none !important;\n",
            "  }\n",
            "}\n",
            "\n",
            "Tutorials \n",
            "References \n",
            "Exercises \n",
            "Videos\n",
            "\n",
            "Menu \n",
            "\n",
            "\n",
            "\n",
            "Log in\n",
            "\n",
            "\n",
            "\n",
            "\n",
            "Website\n",
            "Get Certified\n",
            "Pro NEW\n",
            "\n",
            "\n"
          ]
        }
      ]
    },
    {
      "cell_type": "markdown",
      "source": [
        "###**5. CSS selector 적용5 -> 클래스가 여러개인 경우**"
      ],
      "metadata": {
        "id": "qNXWeWgZir5A"
      }
    },
    {
      "cell_type": "code",
      "source": [
        "data = soup.select('a.w3-bar-item.w3-button.bar-item-hover.w3-right.w3-hide-small.barex')\n",
        "for item in data:\n",
        "  print(item.get_text())"
      ],
      "metadata": {
        "colab": {
          "base_uri": "https://localhost:8080/"
        },
        "id": "dhKADrWnhPpr",
        "outputId": "4a3b3d48-0f01-4540-9890-512971f76e01"
      },
      "execution_count": 12,
      "outputs": [
        {
          "output_type": "stream",
          "name": "stdout",
          "text": [
            "Website\n",
            "Get Certified\n",
            "Pro NEW\n"
          ]
        }
      ]
    },
    {
      "cell_type": "markdown",
      "source": [
        "###**6. CSS selector 적용6 -> 복합적인 사용**"
      ],
      "metadata": {
        "id": "5Oa3PdPBkAIO"
      }
    },
    {
      "cell_type": "code",
      "source": [
        "data = soup.select('div.w3-panel.w3-info.intro > a')\n",
        "for item in data:\n",
        "  print(item.get_text())"
      ],
      "metadata": {
        "colab": {
          "base_uri": "https://localhost:8080/"
        },
        "id": "3f78R5Dgj-wz",
        "outputId": "68885878-440c-43ec-b7bd-07737bcae476"
      },
      "execution_count": 19,
      "outputs": [
        {
          "output_type": "stream",
          "name": "stdout",
          "text": [
            "Start learning CSS now »\n"
          ]
        }
      ]
    },
    {
      "cell_type": "markdown",
      "source": [
        "###**7. CSS selector 적용7 -> 매칭되는 첫번째 데이터만 필요할 때**"
      ],
      "metadata": {
        "id": "nt_YLdJD77vc"
      }
    },
    {
      "cell_type": "code",
      "source": [
        "data = soup.select('div.w3-panel.w3-info.intro > p')\n",
        "for item in data:\n",
        "  print(item.get_text())"
      ],
      "metadata": {
        "colab": {
          "base_uri": "https://localhost:8080/"
        },
        "id": "46oXU1-R6ZrE",
        "outputId": "17d33a4e-a562-4e7d-ffb2-26419fe5cbbd"
      },
      "execution_count": 23,
      "outputs": [
        {
          "output_type": "stream",
          "name": "stdout",
          "text": [
            "CSS is the language we use to style an HTML document.\n",
            "CSS describes how HTML elements should be displayed.\n",
            "This tutorial will teach you CSS from basic to advanced.\n"
          ]
        }
      ]
    },
    {
      "cell_type": "code",
      "source": [
        "data = soup.select_one('div.w3-panel.w3-info.intro > p')\n",
        "print(data.get_text())"
      ],
      "metadata": {
        "colab": {
          "base_uri": "https://localhost:8080/"
        },
        "id": "0l2xQQRV6jeK",
        "outputId": "64c3fdb7-9fe4-4077-95ba-244278161821"
      },
      "execution_count": 26,
      "outputs": [
        {
          "output_type": "stream",
          "name": "stdout",
          "text": [
            "CSS is the language we use to style an HTML document.\n"
          ]
        }
      ]
    },
    {
      "cell_type": "code",
      "source": [
        "datas = soup.select('div.w3-third')\n",
        "for items in datas:\n",
        "  keys = items.select('a')\n",
        "  for items2 in keys:\n",
        "    print(items2.get_text())"
      ],
      "metadata": {
        "colab": {
          "base_uri": "https://localhost:8080/"
        },
        "id": "c7wfXX0JEgWt",
        "outputId": "f4cf8182-284f-4f23-d4e8-df55a5780e72"
      },
      "execution_count": 38,
      "outputs": [
        {
          "output_type": "stream",
          "name": "stdout",
          "text": [
            "CSS Properties\n",
            "CSS Selectors\n",
            "CSS Browser Support\n",
            "CSS Functions\n",
            "CSS Animatable\n",
            "CSS Aural\n",
            "CSS Web Safe Fonts\n",
            "CSS Units\n",
            "Px to Em Conversion\n",
            "CSS Colors\n",
            "CSS Default Values\n",
            "CSS Entities\n"
          ]
        }
      ]
    }
  ]
}