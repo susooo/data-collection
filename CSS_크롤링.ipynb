{
  "nbformat": 4,
  "nbformat_minor": 0,
  "metadata": {
    "colab": {
      "name": "CSS 크롤링.ipynb",
      "provenance": [],
      "authorship_tag": "ABX9TyMSWViAysPT6N2jJNqWhs9i",
      "include_colab_link": true
    },
    "kernelspec": {
      "name": "python3",
      "display_name": "Python 3"
    },
    "language_info": {
      "name": "python"
    }
  },
  "cells": [
    {
      "cell_type": "markdown",
      "metadata": {
        "id": "view-in-github",
        "colab_type": "text"
      },
      "source": [
        "<a href=\"https://colab.research.google.com/github/susooo/data-collection/blob/main/CSS_%ED%81%AC%EB%A1%A4%EB%A7%81.ipynb\" target=\"_parent\"><img src=\"https://colab.research.google.com/assets/colab-badge.svg\" alt=\"Open In Colab\"/></a>"
      ]
    },
    {
      "cell_type": "code",
      "execution_count": 1,
      "metadata": {
        "id": "__tTgV92auwa"
      },
      "outputs": [],
      "source": [
        "#1 라이브러리 임포트\n",
        "import requests\n",
        "from bs4 import BeautifulSoup\n"
      ]
    },
    {
      "cell_type": "code",
      "source": [
        "#2 웹페이지 지정\n",
        "res = requests.get('https://www.w3schools.com/css/')"
      ],
      "metadata": {
        "id": "lEVP3ttwNJ_I"
      },
      "execution_count": 2,
      "outputs": []
    },
    {
      "cell_type": "code",
      "source": [
        "#3 웹페이지 파싱\n",
        "soup = BeautifulSoup(res.content, \"html.parser\")"
      ],
      "metadata": {
        "id": "jcIIjP9_NLQF"
      },
      "execution_count": 3,
      "outputs": []
    },
    {
      "cell_type": "code",
      "source": [
        "#4 태그로 검색하여 필요한 데이터 추출\n",
        "data = soup.find_all('h3', \"w3-margin-top\")\n",
        "for item in data:\n",
        "  print(item.get_text())"
      ],
      "metadata": {
        "colab": {
          "base_uri": "https://localhost:8080/"
        },
        "id": "CTGprSjgNNIF",
        "outputId": "cfbe3f4e-a332-4485-8924-b0cf88f23bcf"
      },
      "execution_count": 11,
      "outputs": [
        {
          "output_type": "stream",
          "name": "stdout",
          "text": [
            "HTML and CSS\n",
            "Data Analytics\n",
            "XML Tutorials\n",
            "JavaScript\n",
            "Programming\n",
            "Server Side\n",
            "Web Building\n",
            "Data Analytics\n",
            "XML Tutorials\n",
            "HTML\n",
            "CSS\n",
            "JavaScript\n",
            "Programming\n",
            "Server Side\n",
            "XML\n",
            "Character Sets\n",
            "Exercises\n",
            "Quizzes\n",
            "Courses\n",
            "Certificates\n"
          ]
        }
      ]
    }
  ]
}