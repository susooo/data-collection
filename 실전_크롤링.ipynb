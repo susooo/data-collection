{
  "nbformat": 4,
  "nbformat_minor": 0,
  "metadata": {
    "colab": {
      "name": "실전 크롤링.ipynb",
      "provenance": [],
      "collapsed_sections": [],
      "authorship_tag": "ABX9TyNdpZhS0kl66bpDB6s53dVU",
      "include_colab_link": true
    },
    "kernelspec": {
      "name": "python3",
      "display_name": "Python 3"
    },
    "language_info": {
      "name": "python"
    },
    "gpuClass": "standard"
  },
  "cells": [
    {
      "cell_type": "markdown",
      "metadata": {
        "id": "view-in-github",
        "colab_type": "text"
      },
      "source": [
        "<a href=\"https://colab.research.google.com/github/susooo/data-collection/blob/main/%EC%8B%A4%EC%A0%84_%ED%81%AC%EB%A1%A4%EB%A7%81.ipynb\" target=\"_parent\"><img src=\"https://colab.research.google.com/assets/colab-badge.svg\" alt=\"Open In Colab\"/></a>"
      ]
    },
    {
      "cell_type": "markdown",
      "source": [
        "#**오늘의 집 크롤링**"
      ],
      "metadata": {
        "id": "FR31vsS7iXGG"
      }
    },
    {
      "cell_type": "markdown",
      "source": [
        "###카테고리 데이터 가져오기"
      ],
      "metadata": {
        "id": "h52aOd12ie1l"
      }
    },
    {
      "cell_type": "code",
      "execution_count": 2,
      "metadata": {
        "id": "Psk0qKB0faTo"
      },
      "outputs": [],
      "source": [
        "import requests\n",
        "from bs4 import BeautifulSoup"
      ]
    },
    {
      "cell_type": "code",
      "source": [
        "res = requests.get('https://ohou.se/')\n",
        "soup = BeautifulSoup(res.content, 'html.parser')"
      ],
      "metadata": {
        "id": "bXlJU-_CNQRR"
      },
      "execution_count": 38,
      "outputs": []
    },
    {
      "cell_type": "code",
      "source": [
        "category = soup.select('div.home-page div.home-category-list div.home-category-item__title')\n",
        "for items in category:\n",
        "  print(items.get_text().split('.')[0])"
      ],
      "metadata": {
        "colab": {
          "base_uri": "https://localhost:8080/"
        },
        "id": "KrjIEtvENYQM",
        "outputId": "a4b9b758-3a2d-44fd-c806-645a4d808e2a"
      },
      "execution_count": 40,
      "outputs": [
        {
          "output_type": "stream",
          "name": "stdout",
          "text": [
            "가구\n",
            "패브릭\n",
            "가전\n",
            "유아·아동\n",
            "조명\n",
            "주방용품\n",
            "데코·식물\n",
            "수납·정리\n",
            "생활용품\n",
            "생필품\n",
            "공구·DIY\n",
            "인테리어시공\n",
            "반려동물\n",
            "캠핑용품\n",
            "실내운동\n",
            "렌탈\n"
          ]
        }
      ]
    },
    {
      "cell_type": "markdown",
      "source": [
        "###Q&A -> 페이지 검색"
      ],
      "metadata": {
        "id": "x0_ekF3iVjye"
      }
    },
    {
      "cell_type": "code",
      "source": [
        "for page in range(1,11):\n",
        "  res_n = requests.get('https://ohou.se/questions?page='+ str(page))\n",
        "  soup_n = BeautifulSoup(res_n.content, 'html.parser')\n",
        "\n",
        "  qa = soup_n.select('div.css-0.evxc8q72 div.css-1xhp05y.e1amn78m11 span')\n",
        "  for items in qa:\n",
        "    print(items.get_text())"
      ],
      "metadata": {
        "colab": {
          "base_uri": "https://localhost:8080/"
        },
        "id": "zu3YWUm5VjOF",
        "outputId": "d204c06a-20e3-4a24-cc5b-5f237bae6318"
      },
      "execution_count": 44,
      "outputs": [
        {
          "output_type": "stream",
          "name": "stdout",
          "text": [
            "제 방좀 살려주세요..\n",
            "구조에 변화를 주고싶어요 도와주세요!\n",
            "침대배치 및 가구 배치\n",
            "베란다창에 커튼..?\n",
            "이런 디자인의 화장대?를 찾고있습니다🥺 (수납장도 가능)\n",
            "창문 붙박이 서랍장 부분 활용방법\n",
            "방 구조,,,\n",
            "방 구조 좀 도와주세요 ㅠㅠ\n",
            "이 방에 두닷 콰트로 테이블 or 스틸 테이블 뭐가 어울릴까요?\n",
            "복층 옷정리 좀 도와주세요ㅠㅠ\n",
            "수도관(?)에서 소리가 납니다 ㅠㅠ\n",
            "검은색 가구(로망) vs 먼지, 스크래치(현실) 중에 고민입니다\n",
            "오늘의 집 이용이 처음인데요! \n",
            "이걸 뭐라고 쳐서 찾아야할까요?\n",
            "작은방 가구 배치 조언 부탁드립니다 ㅠ\n",
            "32평 정도 되는 오래된 아파트입니다\n",
            "주방 상부장 걸이대 제거 방법\n",
            "벽지색에 어울리는 인테리어\n",
            "초초초 미니거실 베란ㄷㅏ 확장\n",
            "콘센트가 거슬리는데 어쩌면 좋을까요\n",
            "여기를 어떻게 하는게 좋을까요\n",
            "가구 배치 질문\n",
            "방 커튼 OR 블라인드\n",
            "오피스텔 가구배치 도와주세요 🙀\n",
            "다이닝 공간을 분리하고 싶은데 어떤게 제일 좋을까요?\n",
            "냉장고 인테리어 색 해결할 수 있는 방법 있을까요 \n",
            "마크라메 / 니트 체어\n",
            "DIY카페트 색상 추천해주세요ㅠㅠ\n",
            "침대 높이 65cm 괜찮을까요?\n",
            "방 구조배치 추천부탁드립니다\n",
            "베란다 세탁기 설치 어떻게 해야하나요 ㅠㅠ\n",
            "선반 추천좀 해주세요\n",
            "매트리스 홀애비 냄새는 어떻게 제거할까요 ㅠ\n",
            "이 샐러드 그릇 어디꺼일까요?\n",
            "이런 유리를 뭐라고 하나요?\n",
            "커튼 가로 길이를 어떻게 사야 될지 모르겠어요\n",
            "색조합 궁금해요\n",
            "테이블을 어떤 걸 사면 좋을까요 \n",
            "이런 색 바닥은 어떻게 꾸며야 할까요\n",
            "인테리어 현장 방문 시 뭐부터 확인하시나요?\n",
            "에어컨 가릴 수 있을까요?\n",
            "1.5룸  쇼파 \n",
            "쇼파 스툴 다들 잘 쓰시나요?\n",
            "알파룸 팬트리주방으로 \n",
            "가구 어디건가요?\n",
            "마루바닥을 어떻게해야할까요 ㅠㅠ\n",
            "같이 색상 좀 골라주세요ㅠㅠ고민되네요\n",
            "아이 키우는집 리모델링 참견좀요..\n",
            "원룸구조 사진추가로 한번만 더 봐주세요 !\n",
            "주방 상판 및 벽\n",
            "티비아래 콘센트 자연스럽게 가리는 방법?ㅠㅠ \n",
            "건조기 구매예정인데 꿀팁주세요 \n",
            "수납장 색상 미스일때 시트지없이 가릴 꿀팁 있을까요? \n",
            "원룸구조 한번봐주세요ㅠㅠ\n",
            "욕실 벽 타일 들뜸 \n",
            "작은 투룸 쇼파 골라주세요\n",
            "타일이나 카펫 청소\n",
            "벽지색깔 추천 부탁드립니다\n",
            "거울 추천해주세요!!\n",
            "공기청정기 추천\n",
            "이케아 고수 계신가요??\n",
            "주방 벽 타일시공\n",
            "외국에선 왜 베개를 많이 쓸까요? \n",
            "세탁기옆 씽크대빨래판\n",
            "화장대 어디에 둘까요?\n",
            "프렌치 양개도어 설치하려고 합니다.\n",
            "원룸 집꾸미기 가구 배치 도와주세요\n",
            "포스터 배치 추천해주세요 \n",
            "일본 1k 복층 6평\n",
            "원룸 파티션 설치\n",
            "이 공간에 화장대 600,800중 어떤걸\n",
            "비접착 데코타일 색 추천해주세요 !\n",
            "좁은 거실 쇼파 추천 받아요 (후보있음) \n",
            "작은 1.5룸, 가구 배치를 어떻게 해야 할까요?\n",
            "싱크대 하부장 리폼 추천드려요\n",
            "투명거실테이블 골라주세요\n",
            "⚠️독특한 방구조 가구배치 도와주세요⚠️\n",
            "여러분 저 좀 도와주세요 ㅠ.ㅠ (방꾸 처음입니다..ㅠ)\n",
            "방이허전해요 뭘 좀 갖다넣음 좋을까요?\n",
            "세면대 놓고싶은데 수전이 없어요. 어떡하믄 좋지요ㅠㅠ\n",
            "리모데링 조언 부탁 드려요\n",
            "창문 몰딩 가리는 방법\n",
            "인테리어 업체 가격이 너무 비싼걸까요..?\n",
            "무늬고사리 요거 아픈건가요? \n",
            "화장실 서랍장\n",
            "블렌더를 찾고있어요 \n",
            "바닥시트지 할려는데\n",
            "도배지좀 봐주세요\n",
            "확장 베란다 습기 문제\n",
            "도와주세요ㅠㅠㅠ\n",
            "가벽 설치 질문\n",
            "블라인드 어떤걸 어떻게 달아야할지 모르겠습니다\n",
            "흰색 테이블이랑 갈색 수납장 질문드려요\n",
            "트롤리 색상 선택장애 도와주세요😭🙏🏻🙏🏻\n",
            "원형테이블, 의자빼고 더 큰 테이블 놓고 싶은데 제품 추천좀요\n",
            "관리소에 연락해서 방역, 청소 하는게 맞죠?\n",
            "욕실청소도구는 어디다가 놓을까요?\n",
            "8.5평가량 되는 투룸 핑크 핑크하게 인테리어 원하는데용\n",
            "원래 후드 틀면 덜덜 떨리는 소리도 같이 들리나요?\n",
            "방구조 추천해주세요\n"
          ]
        }
      ]
    },
    {
      "cell_type": "markdown",
      "source": [
        "# **네이버 국내주식 크롤링**"
      ],
      "metadata": {
        "id": "abc3tqGYest6"
      }
    },
    {
      "cell_type": "markdown",
      "source": [
        "###인기 검색 종목 알기"
      ],
      "metadata": {
        "id": "KmDWtancfZza"
      }
    },
    {
      "cell_type": "code",
      "source": [
        "import requests\n",
        "from bs4 import BeautifulSoup"
      ],
      "metadata": {
        "id": "tvf3rfgPe0IV"
      },
      "execution_count": 1,
      "outputs": []
    },
    {
      "cell_type": "code",
      "source": [
        "res = requests.get('https://finance.naver.com/sise/')\n",
        "soup = BeautifulSoup(res.content, 'html.parser')"
      ],
      "metadata": {
        "id": "m4zheN-He0BV"
      },
      "execution_count": 182,
      "outputs": []
    },
    {
      "cell_type": "code",
      "source": [
        "names = soup.select('#popularItemList a')\n",
        "\n",
        "for index, name in enumerate(names):\n",
        "  print(str(index+1)+'.', name.get_text())"
      ],
      "metadata": {
        "colab": {
          "base_uri": "https://localhost:8080/"
        },
        "id": "fnA1dy30fUjf",
        "outputId": "796c2f15-cd7f-4bef-b5e8-4df3914b2cfa"
      },
      "execution_count": 183,
      "outputs": [
        {
          "output_type": "stream",
          "name": "stdout",
          "text": [
            "1. 삼성전자\n",
            "2. FSN\n",
            "3. 카카오\n",
            "4. 알리코제약\n",
            "5. SK하이닉스\n",
            "6. NAVER\n",
            "7. LG화학\n",
            "8. 오르비텍\n",
            "9. HLB\n",
            "10. 두산에너빌리티\n"
          ]
        }
      ]
    },
    {
      "cell_type": "markdown",
      "source": [
        "###상승 종목 종목명&등락률"
      ],
      "metadata": {
        "id": "JAE3Juedlp-O"
      }
    },
    {
      "cell_type": "code",
      "source": [
        "res = requests.get('https://finance.naver.com/sise/')\n",
        "soup = BeautifulSoup(res.content, 'html.parser')"
      ],
      "metadata": {
        "id": "Yn083VWhDizK"
      },
      "execution_count": 132,
      "outputs": []
    },
    {
      "cell_type": "code",
      "source": [
        "top = soup.select('div.box_type_l table#siselist_tab_2 tr')\n",
        "\n",
        "for data in top:\n",
        "  if data.select_one('a') != None:\n",
        "    print('<종목명> :', data.select_one('a').get_text())"
      ],
      "metadata": {
        "colab": {
          "base_uri": "https://localhost:8080/"
        },
        "id": "_yZFtqcRjrrv",
        "outputId": "8c3c56da-e2fc-4da1-ff04-051deb17c5b8"
      },
      "execution_count": 184,
      "outputs": [
        {
          "output_type": "stream",
          "name": "stdout",
          "text": [
            "<종목명> : 에이티세미콘\n",
            "<종목명> : 메디앙스\n",
            "<종목명> : 안국약품\n",
            "<종목명> : 제로투세븐\n",
            "<종목명> : 서울옥션\n",
            "<종목명> : 일승\n",
            "<종목명> : 큐로홀딩스\n",
            "<종목명> : 바스칸바이오제약\n",
            "<종목명> : 켄코아에어로스페이스\n",
            "<종목명> : 유틸렉스\n"
          ]
        }
      ]
    },
    {
      "cell_type": "code",
      "source": [
        "top = soup.select('div.box_type_l table#siselist_tab_2 tr')\n",
        "\n",
        "for data in top:\n",
        "  if data.select_one('a') != None:\n",
        "    print('<등락률> :',data.select_one('td:nth-of-type(5) > span.tah.p11.red01').get_text().strip())"
      ],
      "metadata": {
        "colab": {
          "base_uri": "https://localhost:8080/"
        },
        "id": "kEOLqNY8aBv_",
        "outputId": "3b7cd142-3fa4-4663-e9e3-400029fc8519"
      },
      "execution_count": 185,
      "outputs": [
        {
          "output_type": "stream",
          "name": "stdout",
          "text": [
            "<등락률> : +28.70%\n",
            "<등락률> : +27.90%\n",
            "<등락률> : +22.39%\n",
            "<등락률> : +20.88%\n",
            "<등락률> : +15.90%\n",
            "<등락률> : +15.35%\n",
            "<등락률> : +15.11%\n",
            "<등락률> : +14.63%\n",
            "<등락률> : +13.33%\n",
            "<등락률> : +13.10%\n"
          ]
        }
      ]
    },
    {
      "cell_type": "code",
      "source": [
        "top = soup.select('div.box_type_l table#siselist_tab_2 tr')\n",
        "\n",
        "for data in top:\n",
        "  if data.select_one('a') != None:\n",
        "    print('<종목명> :', data.select_one('a').get_text(), '\\n', '<등락률> :',data.select_one('td:nth-of-type(5) > span.tah.p11.red01').get_text().strip())"
      ],
      "metadata": {
        "colab": {
          "base_uri": "https://localhost:8080/"
        },
        "id": "32qk-QmNIACZ",
        "outputId": "508485c0-9106-4d93-ba6a-ca3fb71702bc"
      },
      "execution_count": 186,
      "outputs": [
        {
          "output_type": "stream",
          "name": "stdout",
          "text": [
            "<종목명> : 에이티세미콘 \n",
            " <등락률> : +28.70%\n",
            "<종목명> : 메디앙스 \n",
            " <등락률> : +27.90%\n",
            "<종목명> : 안국약품 \n",
            " <등락률> : +22.39%\n",
            "<종목명> : 제로투세븐 \n",
            " <등락률> : +20.88%\n",
            "<종목명> : 서울옥션 \n",
            " <등락률> : +15.90%\n",
            "<종목명> : 일승 \n",
            " <등락률> : +15.35%\n",
            "<종목명> : 큐로홀딩스 \n",
            " <등락률> : +15.11%\n",
            "<종목명> : 바스칸바이오제약 \n",
            " <등락률> : +14.63%\n",
            "<종목명> : 켄코아에어로스페이스 \n",
            " <등락률> : +13.33%\n",
            "<종목명> : 유틸렉스 \n",
            " <등락률> : +13.10%\n"
          ]
        }
      ]
    }
  ]
}