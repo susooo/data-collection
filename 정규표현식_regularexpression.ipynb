{
  "cells": [
    {
      "cell_type": "markdown",
      "metadata": {
        "id": "view-in-github",
        "colab_type": "text"
      },
      "source": [
        "<a href=\"https://colab.research.google.com/github/susooo/data-collection/blob/main/%EC%A0%95%EA%B7%9C%ED%91%9C%ED%98%84%EC%8B%9D_regularexpression.ipynb\" target=\"_parent\"><img src=\"https://colab.research.google.com/assets/colab-badge.svg\" alt=\"Open In Colab\"/></a>"
      ]
    },
    {
      "cell_type": "markdown",
      "metadata": {
        "id": "rI4VrjQ3hm-H"
      },
      "source": [
        "#크롤링과 프로그래밍 고급 문자열 기술"
      ]
    },
    {
      "cell_type": "markdown",
      "metadata": {
        "id": "gZYtCOf9hm-Z"
      },
      "source": [
        "## 정규표현식"
      ]
    },
    {
      "cell_type": "markdown",
      "metadata": {
        "id": "rAgNm9Qqhm-b"
      },
      "source": [
        "### 세 라인의 코드를 추가하면 원하는 패턴의 특징을 추출할 수 있다.\n",
        "<pre>\n",
        "import re\n",
        "regex = re.compile('[A-Za-z]+\\.')\n",
        "print(regex.findall('찾을 문자열'))\n",
        "</pre>"
      ]
    },
    {
      "cell_type": "markdown",
      "metadata": {
        "id": "FgcGMUq5hm-i"
      },
      "source": [
        "<table>\n",
        "    <thead>\n",
        "        <tr style=\"font-size:1.2em\">\n",
        "            <th style=\"text-align:center\">정규 표현식</th>\n",
        "            <th style=\"text-align:center\">축약 표현</th>\n",
        "            <th style=\"text-align:left\">사용 예</th>\n",
        "        </tr>\n",
        "    </thead>\n",
        "    <tbody>\n",
        "        <tr style=\"font-size:1.2em\">\n",
        "            <td style=\"text-align:center\">[0-9]</td>\n",
        "            <td style=\"text-align:center\">\\d</td>\n",
        "            <td style=\"text-align:left\">숫자를 찾음</td>\n",
        "        </tr>\n",
        "        <tr style=\"font-size:1.2em\">\n",
        "            <td style=\"text-align:center\">[^0-9]</td>\n",
        "            <td style=\"text-align:center\">\\D</td>\n",
        "            <td style=\"text-align:left\">숫자가 아닌 것을 찾음(텍스트, 특수 문자, white space(스페이스, 탭, 엔터 등등)를 찾을 때)</td>\n",
        "        </tr>\n",
        "        <tr style=\"font-size:1.2em\">\n",
        "            <td style=\"text-align:center\">[ \\t\\n\\r\\f\\v]</td>\n",
        "            <td style=\"text-align:center\">\\s</td>\n",
        "            <td style=\"text-align:left\">white space(스페이스, 탭, 엔터 등등) 문자인 것을 찾음</td>\n",
        "        </tr>\n",
        "        <tr style=\"font-size:1.2em\">\n",
        "            <td style=\"text-align:center\">[^ \\t\\n\\r\\f\\v]</td>\n",
        "            <td style=\"text-align:center\">\\S</td>\n",
        "            <td style=\"text-align:left\">white space(스페이스, 탭, 엔터 등등) 문자가 아닌 것을 찾음(텍스트, 특수 문자, 숫자를 찾을 때)</td>\n",
        "        </tr>\n",
        "        <tr style=\"font-size:1.2em\">\n",
        "            <td style=\"text-align:center\">[A-Za-z0-9]</td>\n",
        "            <td style=\"text-align:center\">\\w</td>\n",
        "            <td style=\"text-align:left\">문자, 숫자를 찾음</td>\n",
        "        </tr>\n",
        "        <tr style=\"font-size:1.2em\">\n",
        "            <td style=\"text-align:center\">[^A-Za-z0-9]</td>\n",
        "            <td style=\"text-align:center\">\\W</td>\n",
        "            <td style=\"text-align:left\">문자, 숫자가 아닌 것을 찾음</td>\n",
        "        </tr>\n",
        "    </tbody>\n",
        "</table>"
      ]
    },
    {
      "cell_type": "markdown",
      "metadata": {
        "id": "IrPYoWtghm-l"
      },
      "source": [
        "필요한 패턴은 직접 만들 수도 있다."
      ]
    },
    {
      "cell_type": "markdown",
      "metadata": {
        "id": "LA16TrVmhm-l"
      },
      "source": [
        " Dot\n",
        "* Dot \\. 메타 문자는 줄바꿈 문자인 \\n를 제외한 모든 문자(한 개)를 의미함\n",
        "* 예: D.A 는 D + 모든 문자(한 개) + A 를 의미\n",
        "  - DAA, DvA, D1A"
      ]
    },
    {
      "cell_type": "markdown",
      "metadata": {
        "id": "phr0jlM_hm-m"
      },
      "source": [
        "####1. 정규 표현식 라이브러리 임포트하기"
      ]
    },
    {
      "cell_type": "code",
      "execution_count": 2,
      "metadata": {
        "id": "hJIEMys2hm-m"
      },
      "outputs": [],
      "source": [
        "import re"
      ]
    },
    {
      "cell_type": "markdown",
      "metadata": {
        "id": "5vltxnDXhm-m"
      },
      "source": [
        "####2. 정규 표현식 패턴 만들기"
      ]
    },
    {
      "cell_type": "code",
      "execution_count": 3,
      "metadata": {
        "id": "fU_6kfUhhm-m"
      },
      "outputs": [],
      "source": [
        "pattern = re.compile('D.A')"
      ]
    },
    {
      "cell_type": "markdown",
      "metadata": {
        "id": "O38_wt6ehm-n"
      },
      "source": [
        "####3. 패턴에 매칭되는지 여부 확인하기"
      ]
    },
    {
      "cell_type": "code",
      "execution_count": 4,
      "metadata": {
        "colab": {
          "base_uri": "https://localhost:8080/"
        },
        "id": "BFEL8Vh_hm-n",
        "outputId": "60d829b2-99ee-4971-8ec3-8a57ed43afd4"
      },
      "outputs": [
        {
          "output_type": "execute_result",
          "data": {
            "text/plain": [
              "<re.Match object; span=(0, 3), match='DAA'>"
            ]
          },
          "metadata": {},
          "execution_count": 4
        }
      ],
      "source": [
        "pattern.search(\"DAA\")"
      ]
    },
    {
      "cell_type": "code",
      "execution_count": 5,
      "metadata": {
        "colab": {
          "base_uri": "https://localhost:8080/"
        },
        "id": "FEw5mvmohm-o",
        "outputId": "6b011cb3-7420-4c93-9244-3c29dd985961"
      },
      "outputs": [
        {
          "output_type": "execute_result",
          "data": {
            "text/plain": [
              "<re.Match object; span=(0, 3), match='D1A'>"
            ]
          },
          "metadata": {},
          "execution_count": 5
        }
      ],
      "source": [
        "pattern.search(\"D1A\")"
      ]
    },
    {
      "cell_type": "code",
      "execution_count": 6,
      "metadata": {
        "id": "Ld2Soibjhm-o"
      },
      "outputs": [],
      "source": [
        "pattern.search(\"D00A\")"
      ]
    },
    {
      "cell_type": "code",
      "execution_count": 7,
      "metadata": {
        "id": "0Y10aHqQhm-p"
      },
      "outputs": [],
      "source": [
        "pattern.search(\"DA\")"
      ]
    },
    {
      "cell_type": "code",
      "execution_count": 8,
      "metadata": {
        "id": "j5iIf4wShm-p"
      },
      "outputs": [],
      "source": [
        "pattern.search(\"d0A\")"
      ]
    },
    {
      "cell_type": "code",
      "execution_count": 9,
      "metadata": {
        "colab": {
          "base_uri": "https://localhost:8080/"
        },
        "id": "bMzd6UoNhm-p",
        "outputId": "0bb3b3d7-04b1-4389-c755-8cdf6224729a"
      },
      "outputs": [
        {
          "output_type": "execute_result",
          "data": {
            "text/plain": [
              "<re.Match object; span=(4, 7), match='D1A'>"
            ]
          },
          "metadata": {},
          "execution_count": 9
        }
      ],
      "source": [
        "pattern.search(\"d0A D1A 0111\")"
      ]
    },
    {
      "cell_type": "markdown",
      "metadata": {
        "id": "HksWtcezhm-q"
      },
      "source": [
        "정말 Dot . 이 들어간 패턴을 찾으려면?\n",
        "<pre>\n",
        "\\. 으로 표시하거나, [.] 으로 표시하면 된다.\n",
        "</pre>"
      ]
    },
    {
      "cell_type": "code",
      "execution_count": 10,
      "metadata": {
        "id": "OFELS8wvhm-q"
      },
      "outputs": [],
      "source": [
        "pattern = re.compile('D\\.A')"
      ]
    },
    {
      "cell_type": "code",
      "execution_count": 11,
      "metadata": {
        "colab": {
          "base_uri": "https://localhost:8080/"
        },
        "id": "zfI4VnnVhm-q",
        "outputId": "4e90aa9a-c3fd-4557-dd78-bde03f71e360"
      },
      "outputs": [
        {
          "output_type": "execute_result",
          "data": {
            "text/plain": [
              "<re.Match object; span=(0, 3), match='D.A'>"
            ]
          },
          "metadata": {},
          "execution_count": 11
        }
      ],
      "source": [
        "pattern.search(\"D.A\")"
      ]
    },
    {
      "cell_type": "code",
      "execution_count": 12,
      "metadata": {
        "id": "YOfdOEkwhm-r"
      },
      "outputs": [],
      "source": [
        "pattern.search(\"DDA\")"
      ]
    },
    {
      "cell_type": "code",
      "execution_count": 13,
      "metadata": {
        "id": "O_P6LNejhm-r"
      },
      "outputs": [],
      "source": [
        "pattern = re.compile('D[.]A')"
      ]
    },
    {
      "cell_type": "markdown",
      "metadata": {
        "id": "RQWO0prKhm-r"
      },
      "source": [
        "####4. 찾고 바꾸기 (특정 패턴이 매칭되는 것을 찾아서, 다른 문자열로 바꾸기)"
      ]
    },
    {
      "cell_type": "code",
      "execution_count": 14,
      "metadata": {
        "id": "eLxC8_Wohm-s"
      },
      "outputs": [],
      "source": [
        "string = \"DDA D1A DDA DA\""
      ]
    },
    {
      "cell_type": "code",
      "execution_count": 15,
      "metadata": {
        "colab": {
          "base_uri": "https://localhost:8080/",
          "height": 35
        },
        "id": "GV3EzmiZhm-s",
        "outputId": "c609a52f-5ba3-4307-dacd-3130e1dcfca8"
      },
      "outputs": [
        {
          "output_type": "execute_result",
          "data": {
            "text/plain": [
              "'Dave Dave Dave DA'"
            ],
            "application/vnd.google.colaboratory.intrinsic+json": {
              "type": "string"
            }
          },
          "metadata": {},
          "execution_count": 15
        }
      ],
      "source": [
        "# re.sub(패턴, 바꿀데이터, 원본데이터)\n",
        "re.sub('D.A', 'Dave', string)    # 문자, 숫자가 아닌 데이터를 찾아서, '' 로 대체해라(삭제해라)"
      ]
    },
    {
      "cell_type": "markdown",
      "metadata": {
        "id": "Lo1KxPWhhm-t"
      },
      "source": [
        "반복 ? , \\* , +\n",
        "* ? 는 앞 문자가 0번 또는 1번 표시되는 패턴 (없어도 되고, 한번 있어도 되는 패턴)\n",
        "* \\* 는 앞 문자가 0번 또는 그 이상 반복되는 패턴\n",
        "* \\+ 는 앞 문자가 1번 또는 그 이상 반복되는 패턴"
      ]
    },
    {
      "cell_type": "markdown",
      "metadata": {
        "id": "hFVfS66Rhm-t"
      },
      "source": [
        "? 사용"
      ]
    },
    {
      "cell_type": "code",
      "execution_count": 16,
      "metadata": {
        "id": "qZvLUx8Vhm-t"
      },
      "outputs": [],
      "source": [
        "pattern = re.compile('D?A')     # 앞에 문자 D가 없거나, 여러번 반복되고 마지막이 A 인 문자열"
      ]
    },
    {
      "cell_type": "code",
      "execution_count": 17,
      "metadata": {
        "colab": {
          "base_uri": "https://localhost:8080/"
        },
        "id": "K1u7dzvohm-t",
        "outputId": "38ff6035-1cd8-41e6-aeac-02f50641cd6e"
      },
      "outputs": [
        {
          "output_type": "execute_result",
          "data": {
            "text/plain": [
              "<re.Match object; span=(0, 1), match='A'>"
            ]
          },
          "metadata": {},
          "execution_count": 17
        }
      ],
      "source": [
        "pattern.search(\"A\")"
      ]
    },
    {
      "cell_type": "code",
      "execution_count": 18,
      "metadata": {
        "colab": {
          "base_uri": "https://localhost:8080/"
        },
        "id": "fTRsSSQ1hm-t",
        "outputId": "a72470fa-ec33-4546-efd8-8b981f2ce56f"
      },
      "outputs": [
        {
          "output_type": "execute_result",
          "data": {
            "text/plain": [
              "<re.Match object; span=(0, 2), match='DA'>"
            ]
          },
          "metadata": {},
          "execution_count": 18
        }
      ],
      "source": [
        "pattern.search(\"DA\")"
      ]
    },
    {
      "cell_type": "code",
      "execution_count": 19,
      "metadata": {
        "colab": {
          "base_uri": "https://localhost:8080/"
        },
        "id": "m_a5FlIQhm-u",
        "outputId": "e489f7cd-b100-4fe5-a48c-84629a79d74c"
      },
      "outputs": [
        {
          "output_type": "execute_result",
          "data": {
            "text/plain": [
              "<re.Match object; span=(5, 7), match='DA'>"
            ]
          },
          "metadata": {},
          "execution_count": 19
        }
      ],
      "source": [
        "pattern.search(\"DDDDDDA\")"
      ]
    },
    {
      "cell_type": "markdown",
      "metadata": {
        "id": "T6BEB2jYhm-u"
      },
      "source": [
        "\\* 사용"
      ]
    },
    {
      "cell_type": "code",
      "execution_count": 20,
      "metadata": {
        "id": "lIyL6U9Shm-u"
      },
      "outputs": [],
      "source": [
        "pattern = re.compile('D*A')     # 앞에 문자 D가 없거나, 여러번 반복되고 마지막이 A 인 문자열"
      ]
    },
    {
      "cell_type": "code",
      "execution_count": 21,
      "metadata": {
        "colab": {
          "base_uri": "https://localhost:8080/"
        },
        "id": "onRNUaDhhm-u",
        "outputId": "d34d9a9b-0c8e-4da7-b5cf-a53c787c7c91"
      },
      "outputs": [
        {
          "output_type": "execute_result",
          "data": {
            "text/plain": [
              "<re.Match object; span=(0, 1), match='A'>"
            ]
          },
          "metadata": {},
          "execution_count": 21
        }
      ],
      "source": [
        "pattern.search(\"A\")"
      ]
    },
    {
      "cell_type": "code",
      "execution_count": 22,
      "metadata": {
        "colab": {
          "base_uri": "https://localhost:8080/"
        },
        "id": "mFk46dTphm-u",
        "outputId": "1e919b72-9478-4c9a-ba75-2bdab24413b8"
      },
      "outputs": [
        {
          "output_type": "execute_result",
          "data": {
            "text/plain": [
              "<re.Match object; span=(0, 2), match='DA'>"
            ]
          },
          "metadata": {},
          "execution_count": 22
        }
      ],
      "source": [
        "pattern.search(\"DA\")"
      ]
    },
    {
      "cell_type": "code",
      "execution_count": 23,
      "metadata": {
        "colab": {
          "base_uri": "https://localhost:8080/"
        },
        "id": "d5ms47n5hm-v",
        "outputId": "56e8205e-807c-4545-e6f8-12eafa7626e9"
      },
      "outputs": [
        {
          "output_type": "execute_result",
          "data": {
            "text/plain": [
              "<re.Match object; span=(0, 29), match='DDDDDDDDDDDDDDDDDDDDDDDDDDDDA'>"
            ]
          },
          "metadata": {},
          "execution_count": 23
        }
      ],
      "source": [
        "pattern.search(\"DDDDDDDDDDDDDDDDDDDDDDDDDDDDA\")"
      ]
    },
    {
      "cell_type": "code",
      "execution_count": 24,
      "metadata": {
        "id": "mR58a1Wkhm-v"
      },
      "outputs": [],
      "source": [
        "pattern = re.compile('AD*A')     # 앞에 문자 D가 없거나, 여러번 반복되고 마지막이 A 인 문자열"
      ]
    },
    {
      "cell_type": "code",
      "execution_count": 25,
      "metadata": {
        "colab": {
          "base_uri": "https://localhost:8080/"
        },
        "id": "IMp7YqC3hm-v",
        "outputId": "46918870-68ca-4dec-ffb5-072dabdf436e"
      },
      "outputs": [
        {
          "output_type": "execute_result",
          "data": {
            "text/plain": [
              "<re.Match object; span=(0, 3), match='ADA'>"
            ]
          },
          "metadata": {},
          "execution_count": 25
        }
      ],
      "source": [
        "pattern.search(\"ADA\")"
      ]
    },
    {
      "cell_type": "code",
      "execution_count": 26,
      "metadata": {
        "colab": {
          "base_uri": "https://localhost:8080/"
        },
        "id": "odJxJXTHhm-v",
        "outputId": "fadf7344-35ec-4140-dceb-1951ab27ad18"
      },
      "outputs": [
        {
          "output_type": "execute_result",
          "data": {
            "text/plain": [
              "<re.Match object; span=(0, 20), match='ADDDDDDDDDDDDDDDDDDA'>"
            ]
          },
          "metadata": {},
          "execution_count": 26
        }
      ],
      "source": [
        "pattern.search(\"ADDDDDDDDDDDDDDDDDDA\")"
      ]
    },
    {
      "cell_type": "markdown",
      "metadata": {
        "id": "QhiQ6CxNhm-w"
      },
      "source": [
        "+ 사용"
      ]
    },
    {
      "cell_type": "code",
      "execution_count": 27,
      "metadata": {
        "id": "BZruMSq1hm-w"
      },
      "outputs": [],
      "source": [
        "pattern = re.compile('D+A')"
      ]
    },
    {
      "cell_type": "code",
      "execution_count": 28,
      "metadata": {
        "id": "IemgsfuUhm-w"
      },
      "outputs": [],
      "source": [
        "pattern.search(\"A\")"
      ]
    },
    {
      "cell_type": "code",
      "execution_count": 29,
      "metadata": {
        "colab": {
          "base_uri": "https://localhost:8080/"
        },
        "id": "GfId_-rPhm-w",
        "outputId": "53c64d93-feda-467b-a7b1-2f081795edbb"
      },
      "outputs": [
        {
          "output_type": "execute_result",
          "data": {
            "text/plain": [
              "<re.Match object; span=(0, 2), match='DA'>"
            ]
          },
          "metadata": {},
          "execution_count": 29
        }
      ],
      "source": [
        "pattern.search(\"DA\")"
      ]
    },
    {
      "cell_type": "code",
      "execution_count": 30,
      "metadata": {
        "colab": {
          "base_uri": "https://localhost:8080/"
        },
        "id": "p6pO4MjVhm-w",
        "outputId": "56794865-02b1-4002-c9df-56c374417e72"
      },
      "outputs": [
        {
          "output_type": "execute_result",
          "data": {
            "text/plain": [
              "<re.Match object; span=(0, 29), match='DDDDDDDDDDDDDDDDDDDDDDDDDDDDA'>"
            ]
          },
          "metadata": {},
          "execution_count": 30
        }
      ],
      "source": [
        "pattern.search(\"DDDDDDDDDDDDDDDDDDDDDDDDDDDDA\")"
      ]
    },
    {
      "cell_type": "markdown",
      "metadata": {
        "id": "Qsn6wiowhm-x"
      },
      "source": [
        "또다른 반복 표현: {n}, {m,n}\n",
        "* {n} : 앞 문자가 n 번 반복되는 패턴\n",
        "* {m, n} : 앞 문자가 m 번 반복되는 패턴부터 n 번 반복되는 패턴까지"
      ]
    },
    {
      "cell_type": "markdown",
      "metadata": {
        "id": "KPlnmCKyhm-x"
      },
      "source": [
        "{n} 사용"
      ]
    },
    {
      "cell_type": "code",
      "execution_count": 31,
      "metadata": {
        "id": "yGOrPFe-hm-x"
      },
      "outputs": [],
      "source": [
        "pattern = re.compile('AD{2}A')"
      ]
    },
    {
      "cell_type": "code",
      "execution_count": 32,
      "metadata": {
        "id": "g27xti6Dhm-x"
      },
      "outputs": [],
      "source": [
        "pattern.search(\"ADA\")"
      ]
    },
    {
      "cell_type": "code",
      "execution_count": 33,
      "metadata": {
        "colab": {
          "base_uri": "https://localhost:8080/"
        },
        "id": "ySAvsT0qhm-x",
        "outputId": "d9203258-921e-4582-fba8-b1c2486f1717"
      },
      "outputs": [
        {
          "output_type": "execute_result",
          "data": {
            "text/plain": [
              "<re.Match object; span=(0, 4), match='ADDA'>"
            ]
          },
          "metadata": {},
          "execution_count": 33
        }
      ],
      "source": [
        "pattern.search(\"ADDA\")"
      ]
    },
    {
      "cell_type": "code",
      "execution_count": 34,
      "metadata": {
        "id": "6ocwlv7Xhm-x"
      },
      "outputs": [],
      "source": [
        "pattern.search(\"ADDDA\")"
      ]
    },
    {
      "cell_type": "markdown",
      "metadata": {
        "id": "EI1OxeQ2hm-y"
      },
      "source": [
        "{m,n} 사용"
      ]
    },
    {
      "cell_type": "code",
      "execution_count": 35,
      "metadata": {
        "id": "W3wiEd3hhm-y"
      },
      "outputs": [],
      "source": [
        "pattern = re.compile('AD{2,6}A')    # {m,n} 은 붙여 써야 함 {m, n} 으로 쓰면 안됨(특이함)"
      ]
    },
    {
      "cell_type": "code",
      "execution_count": 36,
      "metadata": {
        "colab": {
          "base_uri": "https://localhost:8080/"
        },
        "id": "YzaGAfXdhm-y",
        "outputId": "71c23100-9fd5-4876-fd9c-3b322528cbd9"
      },
      "outputs": [
        {
          "output_type": "execute_result",
          "data": {
            "text/plain": [
              "<re.Match object; span=(0, 4), match='ADDA'>"
            ]
          },
          "metadata": {},
          "execution_count": 36
        }
      ],
      "source": [
        "pattern.search(\"ADDA\")"
      ]
    },
    {
      "cell_type": "code",
      "execution_count": 37,
      "metadata": {
        "colab": {
          "base_uri": "https://localhost:8080/"
        },
        "id": "KYE2ER-Fhm-y",
        "outputId": "7933bfb3-2f1a-4c25-f8e0-f6613e56dc39"
      },
      "outputs": [
        {
          "output_type": "execute_result",
          "data": {
            "text/plain": [
              "<re.Match object; span=(0, 5), match='ADDDA'>"
            ]
          },
          "metadata": {},
          "execution_count": 37
        }
      ],
      "source": [
        "pattern.search(\"ADDDA\")"
      ]
    },
    {
      "cell_type": "code",
      "execution_count": 38,
      "metadata": {
        "colab": {
          "base_uri": "https://localhost:8080/"
        },
        "id": "swXk0M8Zhm-1",
        "outputId": "08553763-5a78-4441-ea12-f710e71d92cd"
      },
      "outputs": [
        {
          "output_type": "execute_result",
          "data": {
            "text/plain": [
              "<re.Match object; span=(0, 8), match='ADDDDDDA'>"
            ]
          },
          "metadata": {},
          "execution_count": 38
        }
      ],
      "source": [
        "pattern.search(\"ADDDDDDA\")"
      ]
    },
    {
      "cell_type": "markdown",
      "metadata": {
        "id": "sM4W_VPWhm-3"
      },
      "source": [
        "#### 6. [ ] 괄호 : 괄호 안에 들어가는 문자가 들어 있는 패턴\n",
        "* 예:  [abc] 는 a, b, c 중 하나가 들어 있는 패턴을 말함"
      ]
    },
    {
      "cell_type": "code",
      "execution_count": 39,
      "metadata": {
        "id": "gWTCqa9Rhm-5"
      },
      "outputs": [],
      "source": [
        "pattern = re.compile('[abcdefgABCDEFG]')    "
      ]
    },
    {
      "cell_type": "code",
      "execution_count": 40,
      "metadata": {
        "colab": {
          "base_uri": "https://localhost:8080/"
        },
        "id": "lpuF_uZ6hm-6",
        "outputId": "cf9bf112-6650-4bb9-ed3f-32e794c9a071"
      },
      "outputs": [
        {
          "output_type": "execute_result",
          "data": {
            "text/plain": [
              "<re.Match object; span=(0, 1), match='a'>"
            ]
          },
          "metadata": {},
          "execution_count": 40
        }
      ],
      "source": [
        "pattern.search(\"a1234\")"
      ]
    },
    {
      "cell_type": "code",
      "execution_count": 41,
      "metadata": {
        "id": "iYxfqis1hm-6"
      },
      "outputs": [],
      "source": [
        "pattern.search(\"z1234\")  "
      ]
    },
    {
      "cell_type": "markdown",
      "metadata": {
        "id": "VuRAP9LNhm-6"
      },
      "source": [
        "하이픈(-)을 이용하면 알파벳 전체를 나타낼 수 있음\n",
        "* 예:  [a-c] 는 a, b, c 중 하나가 들어 있는 패턴을 말함"
      ]
    },
    {
      "cell_type": "code",
      "execution_count": 42,
      "metadata": {
        "id": "MkdZ4akphm-7"
      },
      "outputs": [],
      "source": [
        "pattern = re.compile('[a-z]')    "
      ]
    },
    {
      "cell_type": "code",
      "execution_count": 43,
      "metadata": {
        "colab": {
          "base_uri": "https://localhost:8080/"
        },
        "id": "B9G7BFpBhm-7",
        "outputId": "ec2228c3-748a-40c5-dac8-0435fbd73dfa"
      },
      "outputs": [
        {
          "output_type": "execute_result",
          "data": {
            "text/plain": [
              "<re.Match object; span=(0, 1), match='k'>"
            ]
          },
          "metadata": {},
          "execution_count": 43
        }
      ],
      "source": [
        "pattern.search(\"k1234\")  "
      ]
    },
    {
      "cell_type": "code",
      "execution_count": 44,
      "metadata": {
        "id": "QPQqizZMhm-7"
      },
      "outputs": [],
      "source": [
        "pattern.search(\"Z1234\")  "
      ]
    },
    {
      "cell_type": "markdown",
      "metadata": {
        "id": "L_g0wNDdhm-7"
      },
      "source": [
        "[a-zA-Z] 으로 표기하면 대소문자를 모두 포함해서 알파벳 전체를 나타낼 수 있음"
      ]
    },
    {
      "cell_type": "code",
      "execution_count": 45,
      "metadata": {
        "id": "VGapffsshm-7"
      },
      "outputs": [],
      "source": [
        "pattern = re.compile('[a-zA-Z]') "
      ]
    },
    {
      "cell_type": "code",
      "execution_count": 46,
      "metadata": {
        "colab": {
          "base_uri": "https://localhost:8080/"
        },
        "id": "AkX5Y1gvhm-8",
        "outputId": "ba17773d-a000-4db5-b1f9-6fde0cf386f2"
      },
      "outputs": [
        {
          "output_type": "execute_result",
          "data": {
            "text/plain": [
              "<re.Match object; span=(0, 1), match='Z'>"
            ]
          },
          "metadata": {},
          "execution_count": 46
        }
      ],
      "source": [
        "pattern.search(\"Z1234\")  "
      ]
    },
    {
      "cell_type": "markdown",
      "metadata": {
        "id": "zVy7gpEdhm-8"
      },
      "source": [
        "[a-zA-Z0-9] 로 표기하면 대소문자를 모두 포함해서 알파벳 전체와 함께 숫자 전체도 나타낼 수 있음"
      ]
    },
    {
      "cell_type": "code",
      "execution_count": 47,
      "metadata": {
        "id": "fud0SKm_hm-8"
      },
      "outputs": [],
      "source": [
        "pattern = re.compile('[a-zA-Z0-9]') "
      ]
    },
    {
      "cell_type": "code",
      "execution_count": 48,
      "metadata": {
        "colab": {
          "base_uri": "https://localhost:8080/"
        },
        "id": "NiKKo6c9hm-8",
        "outputId": "aeddac24-9a03-438d-f95b-fbdd0fa8c93a"
      },
      "outputs": [
        {
          "output_type": "execute_result",
          "data": {
            "text/plain": [
              "<re.Match object; span=(0, 1), match='1'>"
            ]
          },
          "metadata": {},
          "execution_count": 48
        }
      ],
      "source": [
        "pattern.search(\"1234---\") "
      ]
    },
    {
      "cell_type": "code",
      "execution_count": 49,
      "metadata": {
        "id": "JTtbS5ZUhm-9"
      },
      "outputs": [],
      "source": [
        "pattern.search(\"---------------!@#!@$!$%#%%%#%%@$!$!---\") "
      ]
    },
    {
      "cell_type": "markdown",
      "metadata": {
        "id": "ustI3nJRhm-9"
      },
      "source": [
        "[ ] 괄호 안에서 [ 바로 뒤에 ^ 을 쓰면 그 뒤에 오는 문자가 아닌 패턴을 찾음\n",
        "* 문자를 결국 알파벳, 숫자, 특수문자, whitespace(스페이스, 탭, 엔터등) 로 분류할 수 있으므로\n",
        "* [^ \\t\\n\\r\\f\\v] 는 이중에서 whitespace 가 아닌 알파벳, 숫자, 특수문자를 지칭함"
      ]
    },
    {
      "cell_type": "code",
      "execution_count": 50,
      "metadata": {
        "id": "wRyxofLkhm-9"
      },
      "outputs": [],
      "source": [
        "pattern = re.compile('[^a-zA-Z0-9]') "
      ]
    },
    {
      "cell_type": "code",
      "execution_count": 51,
      "metadata": {
        "colab": {
          "base_uri": "https://localhost:8080/"
        },
        "id": "jJUjLNijhm-9",
        "outputId": "cc0a06d6-0f96-4d5e-d245-effb4a876ff4"
      },
      "outputs": [
        {
          "output_type": "execute_result",
          "data": {
            "text/plain": [
              "<re.Match object; span=(0, 1), match='-'>"
            ]
          },
          "metadata": {},
          "execution_count": 51
        }
      ],
      "source": [
        "pattern.search(\"---------------!@#!@$!$%#%%%#%%@$!$!---\") "
      ]
    },
    {
      "cell_type": "code",
      "execution_count": 52,
      "metadata": {
        "id": "SRFreQH0hm-9"
      },
      "outputs": [],
      "source": [
        "pattern = re.compile('[^ \\t\\n\\r\\f\\v]') "
      ]
    },
    {
      "cell_type": "code",
      "execution_count": 53,
      "metadata": {
        "colab": {
          "base_uri": "https://localhost:8080/"
        },
        "id": "5F2POV6uhm-9",
        "outputId": "f3e6c976-ebc9-465a-b843-462c0bd3c4f2"
      },
      "outputs": [
        {
          "output_type": "execute_result",
          "data": {
            "text/plain": [
              "<re.Match object; span=(0, 1), match='-'>"
            ]
          },
          "metadata": {},
          "execution_count": 53
        }
      ],
      "source": [
        "pattern.search(\"-\") "
      ]
    },
    {
      "cell_type": "code",
      "execution_count": 54,
      "metadata": {
        "id": "2Ukn3LrPhm--"
      },
      "outputs": [],
      "source": [
        "pattern.search(\" \")"
      ]
    },
    {
      "cell_type": "markdown",
      "metadata": {
        "id": "c5t0j4pVhm--"
      },
      "source": [
        "한글이 들어있는 패턴을 찾음 --> [가-힣]"
      ]
    },
    {
      "cell_type": "code",
      "execution_count": 55,
      "metadata": {
        "id": "lnRFLKErhm--"
      },
      "outputs": [],
      "source": [
        "pattern = re.compile('[가-힣]') "
      ]
    },
    {
      "cell_type": "code",
      "execution_count": 56,
      "metadata": {
        "colab": {
          "base_uri": "https://localhost:8080/"
        },
        "id": "RcSfUTerhm--",
        "outputId": "38aec2a7-dc35-4930-a6ca-ac8772f982ae"
      },
      "outputs": [
        {
          "output_type": "execute_result",
          "data": {
            "text/plain": [
              "<re.Match object; span=(0, 1), match='안'>"
            ]
          },
          "metadata": {},
          "execution_count": 56
        }
      ],
      "source": [
        "pattern.search(\"안\") "
      ]
    },
    {
      "cell_type": "markdown",
      "metadata": {
        "id": "MtGHq1Vjhm-_"
      },
      "source": [
        "#### 7. 정규 표현식 라이브러리 함수 사용법"
      ]
    },
    {
      "cell_type": "markdown",
      "metadata": {
        "id": "UPFwVCzKhm-_"
      },
      "source": [
        "match 와 search 함수\n",
        "* match : 문자열 처음부터 정규식과 매칭되는 패턴을 찾아서 리턴\n",
        "* search : 문자열 전체를 검색해서 정규식과 매칭되는 패턴을 찾아서 리턴"
      ]
    },
    {
      "cell_type": "code",
      "execution_count": 57,
      "metadata": {
        "id": "wLcKiRvkhm-_"
      },
      "outputs": [],
      "source": [
        "import re\n",
        "pattern = re.compile('[a-z]+')"
      ]
    },
    {
      "cell_type": "code",
      "execution_count": 58,
      "metadata": {
        "id": "I4Ne1gdPhm-_"
      },
      "outputs": [],
      "source": [
        "matched = pattern.match('Dave')"
      ]
    },
    {
      "cell_type": "code",
      "execution_count": 59,
      "metadata": {
        "id": "GDl_fXu1hm-_"
      },
      "outputs": [],
      "source": [
        "searched = pattern.search(\"Dave\")"
      ]
    },
    {
      "cell_type": "code",
      "execution_count": 60,
      "metadata": {
        "colab": {
          "base_uri": "https://localhost:8080/"
        },
        "id": "uk_jir9xhm-_",
        "outputId": "0bba7d66-5f1a-4ca6-e625-f76f9b954208"
      },
      "outputs": [
        {
          "output_type": "stream",
          "name": "stdout",
          "text": [
            "None\n"
          ]
        }
      ],
      "source": [
        "print (matched)"
      ]
    },
    {
      "cell_type": "code",
      "execution_count": 61,
      "metadata": {
        "colab": {
          "base_uri": "https://localhost:8080/"
        },
        "id": "Fy8W4qhHhm_A",
        "outputId": "14a51ad5-5a46-411c-b6d9-794394aff087"
      },
      "outputs": [
        {
          "output_type": "stream",
          "name": "stdout",
          "text": [
            "<re.Match object; span=(1, 4), match='ave'>\n"
          ]
        }
      ],
      "source": [
        "print (searched)"
      ]
    },
    {
      "cell_type": "markdown",
      "metadata": {
        "id": "LB7bXKT0hm_A"
      },
      "source": [
        "findall 함수: 정규표현식과 매칭되는 모든 문자열을 리스트 객체로 리턴함"
      ]
    },
    {
      "cell_type": "code",
      "execution_count": 62,
      "metadata": {
        "id": "offuCd23hm_A"
      },
      "outputs": [],
      "source": [
        "import re\n",
        "pattern = re.compile('[a-z]+')\n",
        "findalled = pattern.findall('Game of Life in Python')"
      ]
    },
    {
      "cell_type": "code",
      "execution_count": 63,
      "metadata": {
        "colab": {
          "base_uri": "https://localhost:8080/"
        },
        "id": "6HcPEsGWhm_A",
        "outputId": "7711eacc-4c32-4a12-d949-04b7f4c81a9e"
      },
      "outputs": [
        {
          "output_type": "stream",
          "name": "stdout",
          "text": [
            "['ame', 'of', 'ife', 'in', 'ython']\n"
          ]
        }
      ],
      "source": [
        "print (findalled)"
      ]
    },
    {
      "cell_type": "code",
      "execution_count": 64,
      "metadata": {
        "collapsed": true,
        "id": "qGlVfKRVhm_A"
      },
      "outputs": [],
      "source": [
        "pattern2 = re.compile('[A-Za-z]+')"
      ]
    },
    {
      "cell_type": "code",
      "execution_count": 65,
      "metadata": {
        "collapsed": true,
        "id": "FIchYTiDhm_B"
      },
      "outputs": [],
      "source": [
        "findalled2 = pattern2.findall('Game of Life in Python')"
      ]
    },
    {
      "cell_type": "code",
      "execution_count": 66,
      "metadata": {
        "colab": {
          "base_uri": "https://localhost:8080/"
        },
        "id": "UEljTrkQhm_B",
        "outputId": "8c40a4e1-c2e1-4408-e7a9-cfcb4279e90e"
      },
      "outputs": [
        {
          "output_type": "stream",
          "name": "stdout",
          "text": [
            "['Game', 'of', 'Life', 'in', 'Python']\n"
          ]
        }
      ],
      "source": [
        "print (findalled2)"
      ]
    },
    {
      "cell_type": "code",
      "execution_count": 67,
      "metadata": {
        "colab": {
          "base_uri": "https://localhost:8080/"
        },
        "id": "pgGKZrDchm_B",
        "outputId": "ec12b4ea-e2a3-4e58-8a03-f2ae1c067cc7"
      },
      "outputs": [
        {
          "output_type": "stream",
          "name": "stdout",
          "text": [
            "정규표현식에 맞는 문자열이 존재하지 않음\n"
          ]
        }
      ],
      "source": [
        "import re\n",
        "pattern = re.compile('[a-z]+')\n",
        "findalled = pattern.findall('GAME')\n",
        "if len(findalled) > 0:\n",
        "    print (\"정규표현식에 맞는 문자열이 존재함\")\n",
        "else:\n",
        "    print (\"정규표현식에 맞는 문자열이 존재하지 않음\")"
      ]
    },
    {
      "cell_type": "markdown",
      "metadata": {
        "id": "EerRpRs-hm_B"
      },
      "source": [
        "split 함수: 찾은 정규표현식 패턴 문자열을 기준으로 문자열을 분리"
      ]
    },
    {
      "cell_type": "code",
      "execution_count": 68,
      "metadata": {
        "collapsed": true,
        "id": "8GIPTtKJhm_C"
      },
      "outputs": [],
      "source": [
        "import re\n",
        "pattern2 = re.compile(':')\n",
        "splited = pattern2.split('python:java')"
      ]
    },
    {
      "cell_type": "code",
      "execution_count": 69,
      "metadata": {
        "colab": {
          "base_uri": "https://localhost:8080/"
        },
        "id": "zAHQQ9Ywhm_C",
        "outputId": "a4e6a972-f20d-440d-9be9-a4b5d10fe338"
      },
      "outputs": [
        {
          "output_type": "stream",
          "name": "stdout",
          "text": [
            "['python', 'java']\n"
          ]
        }
      ],
      "source": [
        "print (splited)"
      ]
    },
    {
      "cell_type": "markdown",
      "metadata": {
        "id": "bYUf-2FEhm_D"
      },
      "source": [
        "sub 함수: 찾은 정규표현식 패턴 문자열을 다른 문자열로 변경"
      ]
    },
    {
      "cell_type": "code",
      "execution_count": 70,
      "metadata": {
        "id": "Q7CZbBxFhm_D"
      },
      "outputs": [],
      "source": [
        "import re\n",
        "pattern2 = re.compile('-')\n",
        "subed = pattern2.sub('*', '801210-1011323')  # sub(바꿀문자열, 본래문자열)"
      ]
    },
    {
      "cell_type": "code",
      "execution_count": 71,
      "metadata": {
        "colab": {
          "base_uri": "https://localhost:8080/"
        },
        "id": "Z4fiBFPbhm_D",
        "outputId": "8300a8e6-125b-4439-f7af-5e9b8206ab1d"
      },
      "outputs": [
        {
          "output_type": "stream",
          "name": "stdout",
          "text": [
            "801210*1011323\n"
          ]
        }
      ],
      "source": [
        "print (subed)"
      ]
    },
    {
      "cell_type": "code",
      "execution_count": 72,
      "metadata": {
        "id": "FK9wc0Cdhm_D"
      },
      "outputs": [],
      "source": [
        "subed = re.sub('-', '*', '801210-1011323')  # sub(정규표현식, 바꿀문자열, 본래문자열)"
      ]
    },
    {
      "cell_type": "code",
      "execution_count": 73,
      "metadata": {
        "colab": {
          "base_uri": "https://localhost:8080/"
        },
        "id": "mAzObp1Qhm_D",
        "outputId": "d95793f5-892d-4612-e46a-da6ee013819a"
      },
      "outputs": [
        {
          "output_type": "stream",
          "name": "stdout",
          "text": [
            "801210*1011323\n"
          ]
        }
      ],
      "source": [
        "print (subed)"
      ]
    },
    {
      "cell_type": "markdown",
      "source": [
        "<예시1> 크롤링 결과중 [숫자] 부분 삭제하기<br>"
      ],
      "metadata": {
        "id": "u83-jDGjJxDe"
      }
    },
    {
      "cell_type": "code",
      "source": [
        "from urllib.request import urlopen\n",
        "from bs4 import BeautifulSoup\n",
        "import re\n",
        "\n",
        "res = urlopen('https://davelee-fun.github.io/blog/crawl_test_css.html')\n",
        "soup = BeautifulSoup(res, \"html.parser\")\n",
        "\n",
        "data = soup.select('ul#dev_course_list li.course')\n",
        "for item in data:\n",
        "    print (item.get_text())"
      ],
      "metadata": {
        "colab": {
          "base_uri": "https://localhost:8080/"
        },
        "id": "J8aJHehkHL7w",
        "outputId": "15cc2914-9295-45f5-f585-5059cba8d165"
      },
      "execution_count": 75,
      "outputs": [
        {
          "output_type": "stream",
          "name": "stdout",
          "text": [
            "(초급) - 강사가 실제 사용하는 자동 프로그램 소개 [2]\n",
            "(초급) - 필요한 프로그램 설치 시연 [5]\n",
            "(초급) - 데이터를 엑셀 파일로 만들기 [9]\n",
            "(초급) -     엑셀 파일 이쁘게! 이쁘게! [8]\n",
            "(초급) -     나대신 주기적으로 파이썬 프로그램 실행하기 [7]\n",
            "(초급) - 파이썬으로 슬랙(slack) 메신저에 글쓰기 [40]\n",
            "(초급) - 웹사이트 변경사항 주기적으로 체크해서, 메신저로 알람주기 [12]\n",
            "(초급) - 네이버 API 사용해서, 블로그에 글쓰기 [42]\n",
            "(중급) - 자동으로 쿠팡파트너스 API 로 가져온 상품 정보, 네이버 블로그/트위터에 홍보하기 [412]\n"
          ]
        }
      ]
    },
    {
      "cell_type": "code",
      "source": [
        "from urllib.request import urlopen\n",
        "from bs4 import BeautifulSoup\n",
        "import re\n",
        "\n",
        "res = urlopen('https://davelee-fun.github.io/blog/crawl_test_css.html')\n",
        "soup = BeautifulSoup(res, \"html.parser\")\n",
        "\n",
        "data = soup.select('ul#dev_course_list li.course')\n",
        "for item in data:\n",
        "    print (re.sub('\\[[0-9]+\\]', '', item.get_text()) )"
      ],
      "metadata": {
        "colab": {
          "base_uri": "https://localhost:8080/"
        },
        "id": "ZcjqKoHMHOAo",
        "outputId": "90c9bf88-6c3c-4f7c-d349-a6420175c5a5"
      },
      "execution_count": 76,
      "outputs": [
        {
          "output_type": "stream",
          "name": "stdout",
          "text": [
            "(초급) - 강사가 실제 사용하는 자동 프로그램 소개 \n",
            "(초급) - 필요한 프로그램 설치 시연 \n",
            "(초급) - 데이터를 엑셀 파일로 만들기 \n",
            "(초급) -     엑셀 파일 이쁘게! 이쁘게! \n",
            "(초급) -     나대신 주기적으로 파이썬 프로그램 실행하기 \n",
            "(초급) - 파이썬으로 슬랙(slack) 메신저에 글쓰기 \n",
            "(초급) - 웹사이트 변경사항 주기적으로 체크해서, 메신저로 알람주기 \n",
            "(초급) - 네이버 API 사용해서, 블로그에 글쓰기 \n",
            "(중급) - 자동으로 쿠팡파트너스 API 로 가져온 상품 정보, 네이버 블로그/트위터에 홍보하기 \n"
          ]
        }
      ]
    }
  ],
  "metadata": {
    "kernelspec": {
      "display_name": "Python 3",
      "language": "python",
      "name": "python3"
    },
    "language_info": {
      "codemirror_mode": {
        "name": "ipython",
        "version": 3
      },
      "file_extension": ".py",
      "mimetype": "text/x-python",
      "name": "python",
      "nbconvert_exporter": "python",
      "pygments_lexer": "ipython3",
      "version": "3.7.7"
    },
    "nbTranslate": {
      "displayLangs": [
        "*"
      ],
      "hotkey": "alt-t",
      "langInMainMenu": true,
      "sourceLang": "en",
      "targetLang": "fr",
      "useGoogleTranslate": true
    },
    "colab": {
      "provenance": [],
      "include_colab_link": true
    }
  },
  "nbformat": 4,
  "nbformat_minor": 0
}