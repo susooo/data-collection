{
  "nbformat": 4,
  "nbformat_minor": 0,
  "metadata": {
    "colab": {
      "provenance": [],
      "collapsed_sections": [],
      "authorship_tag": "ABX9TyNFB3ugEhBoH5v54e9aGjNX",
      "include_colab_link": true
    },
    "kernelspec": {
      "name": "python3",
      "display_name": "Python 3"
    },
    "language_info": {
      "name": "python"
    }
  },
  "cells": [
    {
      "cell_type": "markdown",
      "metadata": {
        "id": "view-in-github",
        "colab_type": "text"
      },
      "source": [
        "<a href=\"https://colab.research.google.com/github/susooo/data-collection/blob/main/%ED%81%AC%EB%A1%A4%EB%A7%81_excel.ipynb\" target=\"_parent\"><img src=\"https://colab.research.google.com/assets/colab-badge.svg\" alt=\"Open In Colab\"/></a>"
      ]
    },
    {
      "cell_type": "markdown",
      "source": [
        "#크롤링해서 엑셀 파일로 만들기"
      ],
      "metadata": {
        "id": "x84oXHZqYnE7"
      }
    },
    {
      "cell_type": "markdown",
      "source": [
        "####기본 엑셀파일 만들기"
      ],
      "metadata": {
        "id": "hZsdEZIQwe3W"
      }
    },
    {
      "cell_type": "code",
      "source": [
        "!pip install openpyxl"
      ],
      "metadata": {
        "colab": {
          "base_uri": "https://localhost:8080/"
        },
        "id": "MAuhRpUi9f5f",
        "outputId": "e3b51a03-fa5a-4ac8-8f0c-453a78638b8c"
      },
      "execution_count": 1,
      "outputs": [
        {
          "output_type": "stream",
          "name": "stdout",
          "text": [
            "Looking in indexes: https://pypi.org/simple, https://us-python.pkg.dev/colab-wheels/public/simple/\n",
            "Requirement already satisfied: openpyxl in /usr/local/lib/python3.7/dist-packages (3.0.10)\n",
            "Requirement already satisfied: et-xmlfile in /usr/local/lib/python3.7/dist-packages (from openpyxl) (1.1.0)\n"
          ]
        }
      ]
    },
    {
      "cell_type": "code",
      "source": [
        "#라이브러리 임포트\n",
        "import openpyxl"
      ],
      "metadata": {
        "id": "Z26NA-mVYm5S"
      },
      "execution_count": 2,
      "outputs": []
    },
    {
      "cell_type": "code",
      "execution_count": 3,
      "metadata": {
        "id": "r4Rcm__c5Vzb"
      },
      "outputs": [],
      "source": [
        "#Workbook() 으로 엑셀 파일 생성\n",
        "excel_file = openpyxl.Workbook()"
      ]
    },
    {
      "cell_type": "code",
      "source": [
        "#excel_sheet 선택하기 (default sheet 생성)\n",
        "excel_sheet = excel_file.active\n",
        "#sheet 이름 변경\n",
        "excel_sheet.title = 'one'"
      ],
      "metadata": {
        "id": "_DgyGz6_dNea"
      },
      "execution_count": 4,
      "outputs": []
    },
    {
      "cell_type": "code",
      "source": [
        "#데이터 추가하기\n",
        "excel_sheet.append(['data1', 'data2', 'data3'])"
      ],
      "metadata": {
        "id": "7ZT_D8O4eIwZ"
      },
      "execution_count": 5,
      "outputs": []
    },
    {
      "cell_type": "code",
      "source": [
        "#엑셀 파일 저장\n",
        "excel_file.save('tmp.xlsx')"
      ],
      "metadata": {
        "id": "uvKyuncEjDwi"
      },
      "execution_count": 6,
      "outputs": []
    },
    {
      "cell_type": "code",
      "source": [
        "#엑셀 파일 닫기 -> 닫지 않으면 작업 리소스 낭비\n",
        "excel_file.close()"
      ],
      "metadata": {
        "id": "PLriw6z5jM4S"
      },
      "execution_count": 7,
      "outputs": []
    },
    {
      "cell_type": "markdown",
      "source": [
        "####함수로 엑셀 파일 만들기"
      ],
      "metadata": {
        "id": "KmRg0BSEwShQ"
      }
    },
    {
      "cell_type": "code",
      "source": [
        "import openpyxl\n",
        "\n",
        "def write_excel_tmp(filename, sheetname, listdata):\n",
        "  excel_file = openpyxl.Workbook()\n",
        "  excel_sheet = excel_file.active\n",
        "  #엑셀 셀 크기 변경 -> A열 셀 넓이 100으로 변경\n",
        "  excel_sheet.column_dimensions['A'].width = 100\n",
        "\n",
        "  if sheetname != '':\n",
        "    excel_sheet.title = sheetname\n",
        "  \n",
        "  for item in listdata:\n",
        "    excel_sheet.append(item)\n",
        "  excel_file.save(filename)\n",
        "  excel_file.close()"
      ],
      "metadata": {
        "id": "L9hc9CVBwYCS"
      },
      "execution_count": 31,
      "outputs": []
    },
    {
      "cell_type": "code",
      "source": [
        "#리스트안에 리스트를 넣어야 한다.\n",
        "'''\n",
        "write_excel_tmp(파일명, 시트명, 리스트 데이터)\n",
        "'''"
      ],
      "metadata": {
        "id": "vw181bG74BKk",
        "colab": {
          "base_uri": "https://localhost:8080/",
          "height": 35
        },
        "outputId": "8b1e2724-2cc3-45d0-bb67-b759be3e8c61"
      },
      "execution_count": 23,
      "outputs": [
        {
          "output_type": "execute_result",
          "data": {
            "text/plain": [
              "'\\nwrite_excel_tmp(파일명, 시트명, 리스트 데이터)\\n'"
            ],
            "application/vnd.google.colaboratory.intrinsic+json": {
              "type": "string"
            }
          },
          "metadata": {},
          "execution_count": 23
        }
      ]
    },
    {
      "cell_type": "markdown",
      "source": [
        "####크롤링 결과 엑셀 파일에 저장하기"
      ],
      "metadata": {
        "id": "1l8T_k-88azL"
      }
    },
    {
      "cell_type": "code",
      "source": [
        "import requests\n",
        "from bs4 import BeautifulSoup\n",
        "\n",
        "webtoon_list = list()\n",
        "for page_num in range(1,11):\n",
        "  res = requests.get('https://comic.naver.com/genre/bestChallenge?&page'+str(page_num))\n",
        "  soup = BeautifulSoup(res.content, 'html.parser')\n",
        "\n",
        "  data = soup.select('div.challengeInfo')\n",
        "  for item in data:\n",
        "    webtoon_name = item.select_one('h6 > a').get_text().strip()\n",
        "    webtoon_info = item.select_one('div.summary').get_text().strip()\n",
        "    webtoon_grade = item.select_one('div.rating_type > strong').get_text().strip()\n",
        "    webtoon = [webtoon_name, webtoon_info, webtoon_grade]\n",
        "    webtoon_list.append(webtoon)"
      ],
      "metadata": {
        "id": "tcbKLbuA5A5D"
      },
      "execution_count": 32,
      "outputs": []
    },
    {
      "cell_type": "code",
      "source": [
        "#함수 적용\n",
        "write_excel_tmp('tmp.xlsx', 'cartoon', webtoon_list)"
      ],
      "metadata": {
        "id": "HP0ZGLK6dgUy"
      },
      "execution_count": 33,
      "outputs": []
    },
    {
      "cell_type": "markdown",
      "source": [
        "####엑셀 파일 읽기"
      ],
      "metadata": {
        "id": "MuTmOHn1JzYv"
      }
    },
    {
      "cell_type": "code",
      "source": [
        "import openpyxl"
      ],
      "metadata": {
        "id": "UYqTas_sJ2Gz"
      },
      "execution_count": 34,
      "outputs": []
    },
    {
      "cell_type": "code",
      "source": [
        "#엑셀 파일 오픈\n",
        "excel_file = openpyxl.load_workbook('tmp.xlsx')"
      ],
      "metadata": {
        "id": "PsqDdGc2J7jT"
      },
      "execution_count": 35,
      "outputs": []
    },
    {
      "cell_type": "code",
      "source": [
        "#엑셀 sheet 확인\n",
        "excel_file.sheetnames"
      ],
      "metadata": {
        "id": "-ukVXNVBKHv1",
        "colab": {
          "base_uri": "https://localhost:8080/"
        },
        "outputId": "23a50030-f32f-4d0c-9b40-99e677e7b784"
      },
      "execution_count": 36,
      "outputs": [
        {
          "output_type": "execute_result",
          "data": {
            "text/plain": [
              "['cartoon']"
            ]
          },
          "metadata": {},
          "execution_count": 36
        }
      ]
    },
    {
      "cell_type": "code",
      "source": [
        "#원하는 sheet 선택\n",
        "excel_sheet = excel_file['cartoon']"
      ],
      "metadata": {
        "id": "CMCwJpWuKQkA"
      },
      "execution_count": 37,
      "outputs": []
    },
    {
      "cell_type": "code",
      "source": [
        "#각 행의 데이터 가져오기\n",
        "for row in excel_sheet.rows:\n",
        "  print( row[0].value, '/', row[1].value, '/', row[2].value)"
      ],
      "metadata": {
        "id": "p_-zmsdDNjOC",
        "colab": {
          "base_uri": "https://localhost:8080/"
        },
        "outputId": "4c7dca1e-1493-493e-bc78-81e514bde0d5"
      },
      "execution_count": 38,
      "outputs": [
        {
          "output_type": "stream",
          "name": "stdout",
          "text": [
            "로로의 일본생활 다이어리 / 일본 생활 다이어리 / 9.85\n",
            "쪼꼼한 일기장 / 장애아 육아 공감 / 9.69\n",
            "안녕오존 / 오존의 일상개그툰! / 9.89\n",
            "맹랑맘마 / 내 맘대로 일기 / 9.80\n",
            "노른자들 / 늘 혼자들의 이야기 / 9.81\n",
            "과학고 생존일지 / 과학고에 간 문과생 / 9.82\n",
            "호호도시농부 / 초보농부무화과화과자 / 9.58\n",
            "검의계승자 / 판타지 / 9.81\n",
            "소환진이 좀 이상해 보이는 건 기분 탓이겠지 / 판타지! / 9.94\n",
            "여대생존기 / 재수후 들어간 여대 / 9.90\n",
            "막장동화에 어서오렴! (feat.동화원정대) / 막장 판타지 동화! / 9.28\n",
            "일상견문록 / 해외 여행 일상툰 / 9.89\n",
            "가족입니다. / 가족 이야기 / 9.25\n",
            "오늘의 난 / 오늘의 난, 난그림 / 9.40\n",
            "H O P E / 인류를 위한 임무 / 9.66\n",
            "만렙 할배 / 할아버지 판타지 / 9.85\n",
            "달토끼 / 달에서 온 무언가 / 9.71\n",
            "CMYK / 의식의 흐름 만화 / 9.17\n",
            "별을 향해 / 별 여행 이야기 / 9.30\n",
            "킬링타임 / 일상 블랙코미디 / 9.94\n",
            "가영실장 / 병원 실장의 일상 / 9.71\n",
            "아빠를 위하여 / 아빠와의 1년 / 9.91\n",
            "육아도 경력이 될 수 있다면 / 육아 에세이툰 / 9.71\n",
            "아빠는 N살 / 아빠 4컷 그림일기 / 9.91\n",
            "로로의 일본생활 다이어리 / 일본 생활 다이어리 / 9.85\n",
            "쪼꼼한 일기장 / 장애아 육아 공감 / 9.69\n",
            "안녕오존 / 오존의 일상개그툰! / 9.89\n",
            "맹랑맘마 / 내 맘대로 일기 / 9.80\n",
            "노른자들 / 늘 혼자들의 이야기 / 9.81\n",
            "과학고 생존일지 / 과학고에 간 문과생 / 9.82\n",
            "호호도시농부 / 초보농부무화과화과자 / 9.58\n",
            "검의계승자 / 판타지 / 9.81\n",
            "소환진이 좀 이상해 보이는 건 기분 탓이겠지 / 판타지! / 9.94\n",
            "여대생존기 / 재수후 들어간 여대 / 9.90\n",
            "막장동화에 어서오렴! (feat.동화원정대) / 막장 판타지 동화! / 9.28\n",
            "일상견문록 / 해외 여행 일상툰 / 9.89\n",
            "가족입니다. / 가족 이야기 / 9.25\n",
            "오늘의 난 / 오늘의 난, 난그림 / 9.40\n",
            "H O P E / 인류를 위한 임무 / 9.66\n",
            "만렙 할배 / 할아버지 판타지 / 9.85\n",
            "달토끼 / 달에서 온 무언가 / 9.71\n",
            "CMYK / 의식의 흐름 만화 / 9.17\n",
            "별을 향해 / 별 여행 이야기 / 9.30\n",
            "킬링타임 / 일상 블랙코미디 / 9.94\n",
            "가영실장 / 병원 실장의 일상 / 9.71\n",
            "아빠를 위하여 / 아빠와의 1년 / 9.91\n",
            "육아도 경력이 될 수 있다면 / 육아 에세이툰 / 9.71\n",
            "아빠는 N살 / 아빠 4컷 그림일기 / 9.91\n",
            "로로의 일본생활 다이어리 / 일본 생활 다이어리 / 9.85\n",
            "쪼꼼한 일기장 / 장애아 육아 공감 / 9.69\n",
            "안녕오존 / 오존의 일상개그툰! / 9.89\n",
            "맹랑맘마 / 내 맘대로 일기 / 9.80\n",
            "노른자들 / 늘 혼자들의 이야기 / 9.81\n",
            "과학고 생존일지 / 과학고에 간 문과생 / 9.82\n",
            "호호도시농부 / 초보농부무화과화과자 / 9.58\n",
            "검의계승자 / 판타지 / 9.81\n",
            "소환진이 좀 이상해 보이는 건 기분 탓이겠지 / 판타지! / 9.94\n",
            "여대생존기 / 재수후 들어간 여대 / 9.90\n",
            "막장동화에 어서오렴! (feat.동화원정대) / 막장 판타지 동화! / 9.28\n",
            "일상견문록 / 해외 여행 일상툰 / 9.89\n",
            "가족입니다. / 가족 이야기 / 9.25\n",
            "오늘의 난 / 오늘의 난, 난그림 / 9.40\n",
            "H O P E / 인류를 위한 임무 / 9.66\n",
            "만렙 할배 / 할아버지 판타지 / 9.85\n",
            "달토끼 / 달에서 온 무언가 / 9.71\n",
            "CMYK / 의식의 흐름 만화 / 9.17\n",
            "별을 향해 / 별 여행 이야기 / 9.30\n",
            "킬링타임 / 일상 블랙코미디 / 9.94\n",
            "가영실장 / 병원 실장의 일상 / 9.71\n",
            "아빠를 위하여 / 아빠와의 1년 / 9.91\n",
            "육아도 경력이 될 수 있다면 / 육아 에세이툰 / 9.71\n",
            "아빠는 N살 / 아빠 4컷 그림일기 / 9.91\n",
            "로로의 일본생활 다이어리 / 일본 생활 다이어리 / 9.85\n",
            "쪼꼼한 일기장 / 장애아 육아 공감 / 9.69\n",
            "안녕오존 / 오존의 일상개그툰! / 9.89\n",
            "맹랑맘마 / 내 맘대로 일기 / 9.80\n",
            "노른자들 / 늘 혼자들의 이야기 / 9.81\n",
            "과학고 생존일지 / 과학고에 간 문과생 / 9.82\n",
            "호호도시농부 / 초보농부무화과화과자 / 9.58\n",
            "검의계승자 / 판타지 / 9.81\n",
            "소환진이 좀 이상해 보이는 건 기분 탓이겠지 / 판타지! / 9.94\n",
            "여대생존기 / 재수후 들어간 여대 / 9.90\n",
            "막장동화에 어서오렴! (feat.동화원정대) / 막장 판타지 동화! / 9.28\n",
            "일상견문록 / 해외 여행 일상툰 / 9.89\n",
            "가족입니다. / 가족 이야기 / 9.25\n",
            "오늘의 난 / 오늘의 난, 난그림 / 9.40\n",
            "H O P E / 인류를 위한 임무 / 9.66\n",
            "만렙 할배 / 할아버지 판타지 / 9.85\n",
            "달토끼 / 달에서 온 무언가 / 9.71\n",
            "CMYK / 의식의 흐름 만화 / 9.17\n",
            "별을 향해 / 별 여행 이야기 / 9.30\n",
            "킬링타임 / 일상 블랙코미디 / 9.94\n",
            "가영실장 / 병원 실장의 일상 / 9.71\n",
            "아빠를 위하여 / 아빠와의 1년 / 9.91\n",
            "육아도 경력이 될 수 있다면 / 육아 에세이툰 / 9.71\n",
            "아빠는 N살 / 아빠 4컷 그림일기 / 9.91\n",
            "로로의 일본생활 다이어리 / 일본 생활 다이어리 / 9.85\n",
            "쪼꼼한 일기장 / 장애아 육아 공감 / 9.69\n",
            "안녕오존 / 오존의 일상개그툰! / 9.89\n",
            "맹랑맘마 / 내 맘대로 일기 / 9.80\n",
            "노른자들 / 늘 혼자들의 이야기 / 9.81\n",
            "과학고 생존일지 / 과학고에 간 문과생 / 9.82\n",
            "호호도시농부 / 초보농부무화과화과자 / 9.58\n",
            "검의계승자 / 판타지 / 9.81\n",
            "소환진이 좀 이상해 보이는 건 기분 탓이겠지 / 판타지! / 9.94\n",
            "여대생존기 / 재수후 들어간 여대 / 9.90\n",
            "막장동화에 어서오렴! (feat.동화원정대) / 막장 판타지 동화! / 9.28\n",
            "일상견문록 / 해외 여행 일상툰 / 9.89\n",
            "가족입니다. / 가족 이야기 / 9.25\n",
            "오늘의 난 / 오늘의 난, 난그림 / 9.40\n",
            "H O P E / 인류를 위한 임무 / 9.66\n",
            "만렙 할배 / 할아버지 판타지 / 9.85\n",
            "달토끼 / 달에서 온 무언가 / 9.71\n",
            "CMYK / 의식의 흐름 만화 / 9.17\n",
            "별을 향해 / 별 여행 이야기 / 9.30\n",
            "킬링타임 / 일상 블랙코미디 / 9.94\n",
            "가영실장 / 병원 실장의 일상 / 9.71\n",
            "아빠를 위하여 / 아빠와의 1년 / 9.91\n",
            "육아도 경력이 될 수 있다면 / 육아 에세이툰 / 9.71\n",
            "아빠는 N살 / 아빠 4컷 그림일기 / 9.91\n",
            "로로의 일본생활 다이어리 / 일본 생활 다이어리 / 9.85\n",
            "쪼꼼한 일기장 / 장애아 육아 공감 / 9.69\n",
            "안녕오존 / 오존의 일상개그툰! / 9.89\n",
            "맹랑맘마 / 내 맘대로 일기 / 9.80\n",
            "노른자들 / 늘 혼자들의 이야기 / 9.81\n",
            "과학고 생존일지 / 과학고에 간 문과생 / 9.82\n",
            "호호도시농부 / 초보농부무화과화과자 / 9.58\n",
            "검의계승자 / 판타지 / 9.81\n",
            "소환진이 좀 이상해 보이는 건 기분 탓이겠지 / 판타지! / 9.94\n",
            "여대생존기 / 재수후 들어간 여대 / 9.90\n",
            "막장동화에 어서오렴! (feat.동화원정대) / 막장 판타지 동화! / 9.28\n",
            "일상견문록 / 해외 여행 일상툰 / 9.89\n",
            "가족입니다. / 가족 이야기 / 9.25\n",
            "오늘의 난 / 오늘의 난, 난그림 / 9.40\n",
            "H O P E / 인류를 위한 임무 / 9.66\n",
            "만렙 할배 / 할아버지 판타지 / 9.85\n",
            "달토끼 / 달에서 온 무언가 / 9.71\n",
            "CMYK / 의식의 흐름 만화 / 9.17\n",
            "별을 향해 / 별 여행 이야기 / 9.30\n",
            "킬링타임 / 일상 블랙코미디 / 9.94\n",
            "가영실장 / 병원 실장의 일상 / 9.71\n",
            "아빠를 위하여 / 아빠와의 1년 / 9.91\n",
            "육아도 경력이 될 수 있다면 / 육아 에세이툰 / 9.71\n",
            "아빠는 N살 / 아빠 4컷 그림일기 / 9.91\n",
            "로로의 일본생활 다이어리 / 일본 생활 다이어리 / 9.85\n",
            "쪼꼼한 일기장 / 장애아 육아 공감 / 9.69\n",
            "안녕오존 / 오존의 일상개그툰! / 9.89\n",
            "맹랑맘마 / 내 맘대로 일기 / 9.80\n",
            "노른자들 / 늘 혼자들의 이야기 / 9.81\n",
            "과학고 생존일지 / 과학고에 간 문과생 / 9.82\n",
            "호호도시농부 / 초보농부무화과화과자 / 9.58\n",
            "검의계승자 / 판타지 / 9.81\n",
            "소환진이 좀 이상해 보이는 건 기분 탓이겠지 / 판타지! / 9.94\n",
            "여대생존기 / 재수후 들어간 여대 / 9.90\n",
            "막장동화에 어서오렴! (feat.동화원정대) / 막장 판타지 동화! / 9.28\n",
            "일상견문록 / 해외 여행 일상툰 / 9.89\n",
            "가족입니다. / 가족 이야기 / 9.25\n",
            "오늘의 난 / 오늘의 난, 난그림 / 9.40\n",
            "H O P E / 인류를 위한 임무 / 9.66\n",
            "만렙 할배 / 할아버지 판타지 / 9.85\n",
            "달토끼 / 달에서 온 무언가 / 9.71\n",
            "CMYK / 의식의 흐름 만화 / 9.17\n",
            "별을 향해 / 별 여행 이야기 / 9.30\n",
            "킬링타임 / 일상 블랙코미디 / 9.94\n",
            "가영실장 / 병원 실장의 일상 / 9.71\n",
            "아빠를 위하여 / 아빠와의 1년 / 9.91\n",
            "육아도 경력이 될 수 있다면 / 육아 에세이툰 / 9.71\n",
            "아빠는 N살 / 아빠 4컷 그림일기 / 9.91\n",
            "로로의 일본생활 다이어리 / 일본 생활 다이어리 / 9.85\n",
            "쪼꼼한 일기장 / 장애아 육아 공감 / 9.69\n",
            "안녕오존 / 오존의 일상개그툰! / 9.89\n",
            "맹랑맘마 / 내 맘대로 일기 / 9.80\n",
            "노른자들 / 늘 혼자들의 이야기 / 9.81\n",
            "과학고 생존일지 / 과학고에 간 문과생 / 9.82\n",
            "호호도시농부 / 초보농부무화과화과자 / 9.58\n",
            "검의계승자 / 판타지 / 9.81\n",
            "소환진이 좀 이상해 보이는 건 기분 탓이겠지 / 판타지! / 9.94\n",
            "여대생존기 / 재수후 들어간 여대 / 9.90\n",
            "막장동화에 어서오렴! (feat.동화원정대) / 막장 판타지 동화! / 9.28\n",
            "일상견문록 / 해외 여행 일상툰 / 9.89\n",
            "가족입니다. / 가족 이야기 / 9.25\n",
            "오늘의 난 / 오늘의 난, 난그림 / 9.40\n",
            "H O P E / 인류를 위한 임무 / 9.66\n",
            "만렙 할배 / 할아버지 판타지 / 9.85\n",
            "달토끼 / 달에서 온 무언가 / 9.71\n",
            "CMYK / 의식의 흐름 만화 / 9.17\n",
            "별을 향해 / 별 여행 이야기 / 9.30\n",
            "킬링타임 / 일상 블랙코미디 / 9.94\n",
            "가영실장 / 병원 실장의 일상 / 9.71\n",
            "아빠를 위하여 / 아빠와의 1년 / 9.91\n",
            "육아도 경력이 될 수 있다면 / 육아 에세이툰 / 9.71\n",
            "아빠는 N살 / 아빠 4컷 그림일기 / 9.91\n",
            "로로의 일본생활 다이어리 / 일본 생활 다이어리 / 9.85\n",
            "쪼꼼한 일기장 / 장애아 육아 공감 / 9.69\n",
            "안녕오존 / 오존의 일상개그툰! / 9.89\n",
            "맹랑맘마 / 내 맘대로 일기 / 9.80\n",
            "노른자들 / 늘 혼자들의 이야기 / 9.81\n",
            "과학고 생존일지 / 과학고에 간 문과생 / 9.82\n",
            "호호도시농부 / 초보농부무화과화과자 / 9.58\n",
            "검의계승자 / 판타지 / 9.81\n",
            "소환진이 좀 이상해 보이는 건 기분 탓이겠지 / 판타지! / 9.94\n",
            "여대생존기 / 재수후 들어간 여대 / 9.90\n",
            "막장동화에 어서오렴! (feat.동화원정대) / 막장 판타지 동화! / 9.28\n",
            "일상견문록 / 해외 여행 일상툰 / 9.89\n",
            "가족입니다. / 가족 이야기 / 9.25\n",
            "오늘의 난 / 오늘의 난, 난그림 / 9.40\n",
            "H O P E / 인류를 위한 임무 / 9.66\n",
            "만렙 할배 / 할아버지 판타지 / 9.85\n",
            "달토끼 / 달에서 온 무언가 / 9.71\n",
            "CMYK / 의식의 흐름 만화 / 9.17\n",
            "별을 향해 / 별 여행 이야기 / 9.30\n",
            "킬링타임 / 일상 블랙코미디 / 9.94\n",
            "가영실장 / 병원 실장의 일상 / 9.71\n",
            "아빠를 위하여 / 아빠와의 1년 / 9.91\n",
            "육아도 경력이 될 수 있다면 / 육아 에세이툰 / 9.71\n",
            "아빠는 N살 / 아빠 4컷 그림일기 / 9.91\n",
            "로로의 일본생활 다이어리 / 일본 생활 다이어리 / 9.85\n",
            "쪼꼼한 일기장 / 장애아 육아 공감 / 9.69\n",
            "안녕오존 / 오존의 일상개그툰! / 9.89\n",
            "맹랑맘마 / 내 맘대로 일기 / 9.80\n",
            "노른자들 / 늘 혼자들의 이야기 / 9.81\n",
            "과학고 생존일지 / 과학고에 간 문과생 / 9.82\n",
            "호호도시농부 / 초보농부무화과화과자 / 9.58\n",
            "검의계승자 / 판타지 / 9.81\n",
            "소환진이 좀 이상해 보이는 건 기분 탓이겠지 / 판타지! / 9.94\n",
            "여대생존기 / 재수후 들어간 여대 / 9.90\n",
            "막장동화에 어서오렴! (feat.동화원정대) / 막장 판타지 동화! / 9.28\n",
            "일상견문록 / 해외 여행 일상툰 / 9.89\n",
            "가족입니다. / 가족 이야기 / 9.25\n",
            "오늘의 난 / 오늘의 난, 난그림 / 9.40\n",
            "H O P E / 인류를 위한 임무 / 9.66\n",
            "만렙 할배 / 할아버지 판타지 / 9.85\n",
            "달토끼 / 달에서 온 무언가 / 9.71\n",
            "CMYK / 의식의 흐름 만화 / 9.17\n",
            "별을 향해 / 별 여행 이야기 / 9.30\n",
            "킬링타임 / 일상 블랙코미디 / 9.94\n",
            "가영실장 / 병원 실장의 일상 / 9.71\n",
            "아빠를 위하여 / 아빠와의 1년 / 9.91\n",
            "육아도 경력이 될 수 있다면 / 육아 에세이툰 / 9.71\n",
            "아빠는 N살 / 아빠 4컷 그림일기 / 9.91\n"
          ]
        }
      ]
    }
  ]
}