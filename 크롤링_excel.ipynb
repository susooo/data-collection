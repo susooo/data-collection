{
  "nbformat": 4,
  "nbformat_minor": 0,
  "metadata": {
    "colab": {
      "name": "크롤링 excel.ipynb",
      "provenance": [],
      "collapsed_sections": [],
      "authorship_tag": "ABX9TyOYVTJEUx53+41nKOBcUwux",
      "include_colab_link": true
    },
    "kernelspec": {
      "name": "python3",
      "display_name": "Python 3"
    },
    "language_info": {
      "name": "python"
    }
  },
  "cells": [
    {
      "cell_type": "markdown",
      "metadata": {
        "id": "view-in-github",
        "colab_type": "text"
      },
      "source": [
        "<a href=\"https://colab.research.google.com/github/susooo/data-collection/blob/main/%ED%81%AC%EB%A1%A4%EB%A7%81_excel.ipynb\" target=\"_parent\"><img src=\"https://colab.research.google.com/assets/colab-badge.svg\" alt=\"Open In Colab\"/></a>"
      ]
    },
    {
      "cell_type": "markdown",
      "source": [
        "#크롤링해서 엑셀 파일로 만들기"
      ],
      "metadata": {
        "id": "x84oXHZqYnE7"
      }
    },
    {
      "cell_type": "markdown",
      "source": [
        "####기본 엑셀파일 만들기"
      ],
      "metadata": {
        "id": "hZsdEZIQwe3W"
      }
    },
    {
      "cell_type": "code",
      "source": [
        "!pip install openpyxl"
      ],
      "metadata": {
        "colab": {
          "base_uri": "https://localhost:8080/"
        },
        "id": "MAuhRpUi9f5f",
        "outputId": "81178e49-9470-40f3-c216-9863cb83d356"
      },
      "execution_count": null,
      "outputs": [
        {
          "output_type": "stream",
          "name": "stdout",
          "text": [
            "Looking in indexes: https://pypi.org/simple, https://us-python.pkg.dev/colab-wheels/public/simple/\n",
            "Requirement already satisfied: openpyxl in /usr/local/lib/python3.7/dist-packages (3.0.10)\n",
            "Requirement already satisfied: et-xmlfile in /usr/local/lib/python3.7/dist-packages (from openpyxl) (1.1.0)\n"
          ]
        }
      ]
    },
    {
      "cell_type": "code",
      "source": [
        "#라이브러리 임포트\n",
        "import openpyxl"
      ],
      "metadata": {
        "id": "Z26NA-mVYm5S"
      },
      "execution_count": null,
      "outputs": []
    },
    {
      "cell_type": "code",
      "execution_count": null,
      "metadata": {
        "id": "r4Rcm__c5Vzb"
      },
      "outputs": [],
      "source": [
        "#Workbook() 으로 엑셀 파일 생성\n",
        "excel_file = openpyxl.Workbook()"
      ]
    },
    {
      "cell_type": "code",
      "source": [
        "#excel_sheet 선택하기 (default sheet 생성)\n",
        "excel_sheet = excel_file.active\n",
        "#sheet 이름 변경\n",
        "excel_sheet.title = 'one'"
      ],
      "metadata": {
        "id": "_DgyGz6_dNea"
      },
      "execution_count": null,
      "outputs": []
    },
    {
      "cell_type": "code",
      "source": [
        "#데이터 추가하기\n",
        "excel_sheet.append(['data1', 'data2', 'data3'])"
      ],
      "metadata": {
        "id": "7ZT_D8O4eIwZ"
      },
      "execution_count": null,
      "outputs": []
    },
    {
      "cell_type": "code",
      "source": [
        "#엑셀 파일 저장\n",
        "excel_file.save('tmp.xlsx')"
      ],
      "metadata": {
        "id": "uvKyuncEjDwi"
      },
      "execution_count": null,
      "outputs": []
    },
    {
      "cell_type": "code",
      "source": [
        "#엑셀 파일 닫기 -> 닫지 않으면 작업 리소스 낭비\n",
        "excel_file.close()"
      ],
      "metadata": {
        "id": "PLriw6z5jM4S"
      },
      "execution_count": null,
      "outputs": []
    },
    {
      "cell_type": "markdown",
      "source": [
        "####함수로 엑셀 파일 만들기"
      ],
      "metadata": {
        "id": "KmRg0BSEwShQ"
      }
    },
    {
      "cell_type": "code",
      "source": [
        "import openpyxl\n",
        "\n",
        "def write_excel_tmp(filename, sheetname, listdata):\n",
        "  excel_file = openpyxl.Workbook()\n",
        "  excel_sheet = excel_file.active\n",
        "  #엑셀 셀 크기 변경 -> A열 셀 넓이 100으로 변경\n",
        "  excel_sheet.column_dimensions['A'].width = 100\n",
        "\n",
        "  if sheetname != '':\n",
        "    excel_sheet.title = sheetname\n",
        "  \n",
        "  for item in listdata:\n",
        "    excel_sheet.append(item)\n",
        "  excel_file.save(filename)\n",
        "  excel_file.close()"
      ],
      "metadata": {
        "id": "L9hc9CVBwYCS"
      },
      "execution_count": null,
      "outputs": []
    },
    {
      "cell_type": "code",
      "source": [
        "#리스트안에 리스트를 넣어야 한다.\n",
        "write_excel_tmp"
      ],
      "metadata": {
        "id": "vw181bG74BKk",
        "colab": {
          "base_uri": "https://localhost:8080/"
        },
        "outputId": "9480d569-0641-4001-dbad-0ce8c562a826"
      },
      "execution_count": null,
      "outputs": [
        {
          "output_type": "execute_result",
          "data": {
            "text/plain": [
              "<function __main__.write_excel_tmp(filename, sheetname, listdata)>"
            ]
          },
          "metadata": {},
          "execution_count": 10
        }
      ]
    },
    {
      "cell_type": "markdown",
      "source": [
        "####크롤링 결과 엑셀 파일에 저장하기"
      ],
      "metadata": {
        "id": "1l8T_k-88azL"
      }
    },
    {
      "cell_type": "code",
      "source": [
        "import requests\n",
        "from bs4 import BeautifulSoup\n",
        "\n",
        "webtoon_list = list()\n",
        "for page_num in range(1,11):\n",
        "  res = requests.get('https://comic.naver.com/genre/bestChallenge?&page'+str(page_num))\n",
        "  soup = BeautifulSoup(res.content, 'html.parser')\n",
        "\n",
        "  data = soup.select('div.challengeInfo')\n",
        "  for item in data:\n",
        "    webtoon_name = item.select_one('h6 > a').get_text().strip()\n",
        "    webtoon_info = item.select_one('div.summary').get_text().strip()\n",
        "    webtoon_grade = item.select_one('div.rating_type > strong').get_text().strip()\n",
        "    webtoon = [webtoon_name, webtoon_info, webtoon_grade]\n",
        "    webtoon_list.append(webtoon)"
      ],
      "metadata": {
        "id": "tcbKLbuA5A5D"
      },
      "execution_count": null,
      "outputs": []
    },
    {
      "cell_type": "code",
      "source": [
        "#함수 적용\n",
        "write_excel_tmp('tmp.xlsx', 'cartoon', webtoon_list)"
      ],
      "metadata": {
        "id": "HP0ZGLK6dgUy"
      },
      "execution_count": null,
      "outputs": []
    },
    {
      "cell_type": "markdown",
      "source": [
        "####엑셀 파일 읽기"
      ],
      "metadata": {
        "id": "MuTmOHn1JzYv"
      }
    },
    {
      "cell_type": "code",
      "source": [
        "import openpyxl"
      ],
      "metadata": {
        "id": "UYqTas_sJ2Gz"
      },
      "execution_count": null,
      "outputs": []
    },
    {
      "cell_type": "code",
      "source": [
        "#엑셀 파일 오픈\n",
        "excel_file = openpyxl.load_workbook('tmp.xlsx')"
      ],
      "metadata": {
        "id": "PsqDdGc2J7jT"
      },
      "execution_count": null,
      "outputs": []
    },
    {
      "cell_type": "code",
      "source": [
        "#엑셀 sheet 확인\n",
        "excel_file.sheetnames"
      ],
      "metadata": {
        "id": "-ukVXNVBKHv1",
        "colab": {
          "base_uri": "https://localhost:8080/"
        },
        "outputId": "50ceeb7c-0de7-48c3-bbdd-6f4dddf9c58f"
      },
      "execution_count": null,
      "outputs": [
        {
          "output_type": "execute_result",
          "data": {
            "text/plain": [
              "['cartoon']"
            ]
          },
          "metadata": {},
          "execution_count": 15
        }
      ]
    },
    {
      "cell_type": "code",
      "source": [
        "#원하는 sheet 선택\n",
        "excel_sheet = excel_file['cartoon']"
      ],
      "metadata": {
        "id": "CMCwJpWuKQkA"
      },
      "execution_count": null,
      "outputs": []
    },
    {
      "cell_type": "code",
      "source": [
        "#각 행의 데이터 가져오기\n",
        "for row in excel_sheet.rows:\n",
        "  print( row[0].value, '/', row[1].value, '/', row[2].value)"
      ],
      "metadata": {
        "id": "p_-zmsdDNjOC",
        "colab": {
          "base_uri": "https://localhost:8080/"
        },
        "outputId": "6c22916b-cbe3-4249-914a-e7b2d2bb9248"
      },
      "execution_count": null,
      "outputs": [
        {
          "output_type": "stream",
          "name": "stdout",
          "text": [
            "그들이 사는 세상 / 과고에서 1등하기 / 8.89\n",
            "땅거미들 / 미아들의 생존일지 / 9.70\n",
            "파운드캣 / 식빵을 닮은 고양이 / 9.89\n",
            "낯가리는 관종 / 낯가리는 관종일기 / 9.85\n",
            "8470원만 주면 KISS 해주는 놈 / 인터넷소설 세상으로 / 9.59\n",
            "거울 속 정원 / 거울 속 정원 / 8.49\n",
            "제목이 7080 만화 / 7080 이야기 / 9.89\n",
            "실험학교 / 변형자들의 학교 / 9.90\n",
            "산으로 가는 부부 / 산에서 일하면 / 9.84\n",
            "H O P E / 인류를 위한 임무 / 9.65\n",
            "연하는 별로 / 서린과 연하남과 썸 / 9.59\n",
            "아빠를 위하여 / 아빠와의 1년 / 9.90\n",
            "이름 없는 나에게 / 윤하와 주변 이야기 / 9.42\n",
            "아빠는 N살 / 아빠 4컷 그림일기 / 9.91\n",
            "난봉꾼의 메타픽스 / 장르를 지켜라 / 9.85\n",
            "가족이되는과정 / 아기천사가 찾아왔다 / 9.86\n",
            "북한의 아이 / 복희의 성장 스토리 / 8.96\n",
            "오늘을 위하여 / 홈포차 이야기 / 9.88\n",
            "국밥소녀 / 국밥에 미친 소녀 / 9.33\n",
            "THE / 자신을 찾을 이야기 / 9.77\n",
            "검의계승자 / 판타지 / 9.83\n",
            "중딩의 학교생활 / 중학생의 일상 / 8.34\n",
            "시바하루 (시바견의 하루) / 기숙사  일상물 / 9.67\n",
            "김치걸 밀크티보이 / 국제결혼일상툰 / 9.86\n",
            "그들이 사는 세상 / 과고에서 1등하기 / 8.89\n",
            "땅거미들 / 미아들의 생존일지 / 9.70\n",
            "파운드캣 / 식빵을 닮은 고양이 / 9.89\n",
            "낯가리는 관종 / 낯가리는 관종일기 / 9.85\n",
            "8470원만 주면 KISS 해주는 놈 / 인터넷소설 세상으로 / 9.59\n",
            "거울 속 정원 / 거울 속 정원 / 8.49\n",
            "제목이 7080 만화 / 7080 이야기 / 9.89\n",
            "실험학교 / 변형자들의 학교 / 9.90\n",
            "산으로 가는 부부 / 산에서 일하면 / 9.84\n",
            "H O P E / 인류를 위한 임무 / 9.65\n",
            "연하는 별로 / 서린과 연하남과 썸 / 9.59\n",
            "아빠를 위하여 / 아빠와의 1년 / 9.90\n",
            "이름 없는 나에게 / 윤하와 주변 이야기 / 9.42\n",
            "아빠는 N살 / 아빠 4컷 그림일기 / 9.91\n",
            "난봉꾼의 메타픽스 / 장르를 지켜라 / 9.85\n",
            "가족이되는과정 / 아기천사가 찾아왔다 / 9.86\n",
            "북한의 아이 / 복희의 성장 스토리 / 8.96\n",
            "오늘을 위하여 / 홈포차 이야기 / 9.88\n",
            "국밥소녀 / 국밥에 미친 소녀 / 9.33\n",
            "THE / 자신을 찾을 이야기 / 9.77\n",
            "검의계승자 / 판타지 / 9.83\n",
            "중딩의 학교생활 / 중학생의 일상 / 8.34\n",
            "시바하루 (시바견의 하루) / 기숙사  일상물 / 9.67\n",
            "김치걸 밀크티보이 / 국제결혼일상툰 / 9.86\n",
            "그들이 사는 세상 / 과고에서 1등하기 / 8.89\n",
            "땅거미들 / 미아들의 생존일지 / 9.70\n",
            "파운드캣 / 식빵을 닮은 고양이 / 9.89\n",
            "낯가리는 관종 / 낯가리는 관종일기 / 9.85\n",
            "8470원만 주면 KISS 해주는 놈 / 인터넷소설 세상으로 / 9.59\n",
            "거울 속 정원 / 거울 속 정원 / 8.49\n",
            "제목이 7080 만화 / 7080 이야기 / 9.89\n",
            "실험학교 / 변형자들의 학교 / 9.90\n",
            "산으로 가는 부부 / 산에서 일하면 / 9.84\n",
            "H O P E / 인류를 위한 임무 / 9.65\n",
            "연하는 별로 / 서린과 연하남과 썸 / 9.59\n",
            "아빠를 위하여 / 아빠와의 1년 / 9.90\n",
            "이름 없는 나에게 / 윤하와 주변 이야기 / 9.42\n",
            "아빠는 N살 / 아빠 4컷 그림일기 / 9.91\n",
            "난봉꾼의 메타픽스 / 장르를 지켜라 / 9.85\n",
            "가족이되는과정 / 아기천사가 찾아왔다 / 9.86\n",
            "북한의 아이 / 복희의 성장 스토리 / 8.96\n",
            "오늘을 위하여 / 홈포차 이야기 / 9.88\n",
            "국밥소녀 / 국밥에 미친 소녀 / 9.33\n",
            "THE / 자신을 찾을 이야기 / 9.77\n",
            "검의계승자 / 판타지 / 9.83\n",
            "중딩의 학교생활 / 중학생의 일상 / 8.34\n",
            "시바하루 (시바견의 하루) / 기숙사  일상물 / 9.67\n",
            "김치걸 밀크티보이 / 국제결혼일상툰 / 9.86\n",
            "그들이 사는 세상 / 과고에서 1등하기 / 8.89\n",
            "땅거미들 / 미아들의 생존일지 / 9.70\n",
            "파운드캣 / 식빵을 닮은 고양이 / 9.89\n",
            "낯가리는 관종 / 낯가리는 관종일기 / 9.85\n",
            "8470원만 주면 KISS 해주는 놈 / 인터넷소설 세상으로 / 9.59\n",
            "거울 속 정원 / 거울 속 정원 / 8.49\n",
            "제목이 7080 만화 / 7080 이야기 / 9.89\n",
            "실험학교 / 변형자들의 학교 / 9.90\n",
            "산으로 가는 부부 / 산에서 일하면 / 9.84\n",
            "H O P E / 인류를 위한 임무 / 9.65\n",
            "연하는 별로 / 서린과 연하남과 썸 / 9.59\n",
            "아빠를 위하여 / 아빠와의 1년 / 9.90\n",
            "이름 없는 나에게 / 윤하와 주변 이야기 / 9.42\n",
            "아빠는 N살 / 아빠 4컷 그림일기 / 9.91\n",
            "난봉꾼의 메타픽스 / 장르를 지켜라 / 9.85\n",
            "가족이되는과정 / 아기천사가 찾아왔다 / 9.86\n",
            "북한의 아이 / 복희의 성장 스토리 / 8.96\n",
            "오늘을 위하여 / 홈포차 이야기 / 9.88\n",
            "국밥소녀 / 국밥에 미친 소녀 / 9.33\n",
            "THE / 자신을 찾을 이야기 / 9.77\n",
            "검의계승자 / 판타지 / 9.83\n",
            "중딩의 학교생활 / 중학생의 일상 / 8.34\n",
            "시바하루 (시바견의 하루) / 기숙사  일상물 / 9.67\n",
            "김치걸 밀크티보이 / 국제결혼일상툰 / 9.86\n",
            "그들이 사는 세상 / 과고에서 1등하기 / 8.89\n",
            "땅거미들 / 미아들의 생존일지 / 9.70\n",
            "파운드캣 / 식빵을 닮은 고양이 / 9.89\n",
            "낯가리는 관종 / 낯가리는 관종일기 / 9.85\n",
            "8470원만 주면 KISS 해주는 놈 / 인터넷소설 세상으로 / 9.59\n",
            "거울 속 정원 / 거울 속 정원 / 8.49\n",
            "제목이 7080 만화 / 7080 이야기 / 9.89\n",
            "실험학교 / 변형자들의 학교 / 9.90\n",
            "산으로 가는 부부 / 산에서 일하면 / 9.84\n",
            "H O P E / 인류를 위한 임무 / 9.65\n",
            "연하는 별로 / 서린과 연하남과 썸 / 9.59\n",
            "아빠를 위하여 / 아빠와의 1년 / 9.90\n",
            "이름 없는 나에게 / 윤하와 주변 이야기 / 9.42\n",
            "아빠는 N살 / 아빠 4컷 그림일기 / 9.91\n",
            "난봉꾼의 메타픽스 / 장르를 지켜라 / 9.85\n",
            "가족이되는과정 / 아기천사가 찾아왔다 / 9.86\n",
            "북한의 아이 / 복희의 성장 스토리 / 8.96\n",
            "오늘을 위하여 / 홈포차 이야기 / 9.88\n",
            "국밥소녀 / 국밥에 미친 소녀 / 9.33\n",
            "THE / 자신을 찾을 이야기 / 9.77\n",
            "검의계승자 / 판타지 / 9.83\n",
            "중딩의 학교생활 / 중학생의 일상 / 8.34\n",
            "시바하루 (시바견의 하루) / 기숙사  일상물 / 9.67\n",
            "김치걸 밀크티보이 / 국제결혼일상툰 / 9.86\n",
            "그들이 사는 세상 / 과고에서 1등하기 / 8.89\n",
            "땅거미들 / 미아들의 생존일지 / 9.70\n",
            "파운드캣 / 식빵을 닮은 고양이 / 9.89\n",
            "낯가리는 관종 / 낯가리는 관종일기 / 9.85\n",
            "8470원만 주면 KISS 해주는 놈 / 인터넷소설 세상으로 / 9.59\n",
            "거울 속 정원 / 거울 속 정원 / 8.49\n",
            "제목이 7080 만화 / 7080 이야기 / 9.89\n",
            "실험학교 / 변형자들의 학교 / 9.90\n",
            "산으로 가는 부부 / 산에서 일하면 / 9.84\n",
            "H O P E / 인류를 위한 임무 / 9.65\n",
            "연하는 별로 / 서린과 연하남과 썸 / 9.59\n",
            "아빠를 위하여 / 아빠와의 1년 / 9.90\n",
            "이름 없는 나에게 / 윤하와 주변 이야기 / 9.42\n",
            "아빠는 N살 / 아빠 4컷 그림일기 / 9.91\n",
            "난봉꾼의 메타픽스 / 장르를 지켜라 / 9.85\n",
            "가족이되는과정 / 아기천사가 찾아왔다 / 9.86\n",
            "북한의 아이 / 복희의 성장 스토리 / 8.96\n",
            "오늘을 위하여 / 홈포차 이야기 / 9.88\n",
            "국밥소녀 / 국밥에 미친 소녀 / 9.33\n",
            "THE / 자신을 찾을 이야기 / 9.77\n",
            "검의계승자 / 판타지 / 9.83\n",
            "중딩의 학교생활 / 중학생의 일상 / 8.34\n",
            "시바하루 (시바견의 하루) / 기숙사  일상물 / 9.67\n",
            "김치걸 밀크티보이 / 국제결혼일상툰 / 9.86\n",
            "그들이 사는 세상 / 과고에서 1등하기 / 8.89\n",
            "땅거미들 / 미아들의 생존일지 / 9.70\n",
            "파운드캣 / 식빵을 닮은 고양이 / 9.89\n",
            "낯가리는 관종 / 낯가리는 관종일기 / 9.85\n",
            "8470원만 주면 KISS 해주는 놈 / 인터넷소설 세상으로 / 9.59\n",
            "거울 속 정원 / 거울 속 정원 / 8.49\n",
            "제목이 7080 만화 / 7080 이야기 / 9.89\n",
            "실험학교 / 변형자들의 학교 / 9.90\n",
            "산으로 가는 부부 / 산에서 일하면 / 9.84\n",
            "H O P E / 인류를 위한 임무 / 9.65\n",
            "연하는 별로 / 서린과 연하남과 썸 / 9.59\n",
            "아빠를 위하여 / 아빠와의 1년 / 9.90\n",
            "이름 없는 나에게 / 윤하와 주변 이야기 / 9.42\n",
            "아빠는 N살 / 아빠 4컷 그림일기 / 9.91\n",
            "난봉꾼의 메타픽스 / 장르를 지켜라 / 9.85\n",
            "가족이되는과정 / 아기천사가 찾아왔다 / 9.86\n",
            "북한의 아이 / 복희의 성장 스토리 / 8.96\n",
            "오늘을 위하여 / 홈포차 이야기 / 9.88\n",
            "국밥소녀 / 국밥에 미친 소녀 / 9.33\n",
            "THE / 자신을 찾을 이야기 / 9.77\n",
            "검의계승자 / 판타지 / 9.83\n",
            "중딩의 학교생활 / 중학생의 일상 / 8.34\n",
            "시바하루 (시바견의 하루) / 기숙사  일상물 / 9.67\n",
            "김치걸 밀크티보이 / 국제결혼일상툰 / 9.86\n",
            "그들이 사는 세상 / 과고에서 1등하기 / 8.89\n",
            "땅거미들 / 미아들의 생존일지 / 9.70\n",
            "파운드캣 / 식빵을 닮은 고양이 / 9.89\n",
            "낯가리는 관종 / 낯가리는 관종일기 / 9.85\n",
            "8470원만 주면 KISS 해주는 놈 / 인터넷소설 세상으로 / 9.59\n",
            "거울 속 정원 / 거울 속 정원 / 8.49\n",
            "제목이 7080 만화 / 7080 이야기 / 9.89\n",
            "실험학교 / 변형자들의 학교 / 9.90\n",
            "산으로 가는 부부 / 산에서 일하면 / 9.84\n",
            "H O P E / 인류를 위한 임무 / 9.65\n",
            "연하는 별로 / 서린과 연하남과 썸 / 9.59\n",
            "아빠를 위하여 / 아빠와의 1년 / 9.90\n",
            "이름 없는 나에게 / 윤하와 주변 이야기 / 9.42\n",
            "아빠는 N살 / 아빠 4컷 그림일기 / 9.91\n",
            "난봉꾼의 메타픽스 / 장르를 지켜라 / 9.85\n",
            "가족이되는과정 / 아기천사가 찾아왔다 / 9.86\n",
            "북한의 아이 / 복희의 성장 스토리 / 8.96\n",
            "오늘을 위하여 / 홈포차 이야기 / 9.88\n",
            "국밥소녀 / 국밥에 미친 소녀 / 9.33\n",
            "THE / 자신을 찾을 이야기 / 9.77\n",
            "검의계승자 / 판타지 / 9.83\n",
            "중딩의 학교생활 / 중학생의 일상 / 8.34\n",
            "시바하루 (시바견의 하루) / 기숙사  일상물 / 9.67\n",
            "김치걸 밀크티보이 / 국제결혼일상툰 / 9.86\n",
            "그들이 사는 세상 / 과고에서 1등하기 / 8.89\n",
            "땅거미들 / 미아들의 생존일지 / 9.70\n",
            "파운드캣 / 식빵을 닮은 고양이 / 9.89\n",
            "낯가리는 관종 / 낯가리는 관종일기 / 9.85\n",
            "8470원만 주면 KISS 해주는 놈 / 인터넷소설 세상으로 / 9.59\n",
            "거울 속 정원 / 거울 속 정원 / 8.49\n",
            "제목이 7080 만화 / 7080 이야기 / 9.89\n",
            "실험학교 / 변형자들의 학교 / 9.90\n",
            "산으로 가는 부부 / 산에서 일하면 / 9.84\n",
            "H O P E / 인류를 위한 임무 / 9.65\n",
            "연하는 별로 / 서린과 연하남과 썸 / 9.59\n",
            "아빠를 위하여 / 아빠와의 1년 / 9.90\n",
            "이름 없는 나에게 / 윤하와 주변 이야기 / 9.42\n",
            "아빠는 N살 / 아빠 4컷 그림일기 / 9.91\n",
            "난봉꾼의 메타픽스 / 장르를 지켜라 / 9.85\n",
            "가족이되는과정 / 아기천사가 찾아왔다 / 9.86\n",
            "북한의 아이 / 복희의 성장 스토리 / 8.96\n",
            "오늘을 위하여 / 홈포차 이야기 / 9.88\n",
            "국밥소녀 / 국밥에 미친 소녀 / 9.33\n",
            "THE / 자신을 찾을 이야기 / 9.77\n",
            "검의계승자 / 판타지 / 9.83\n",
            "중딩의 학교생활 / 중학생의 일상 / 8.34\n",
            "시바하루 (시바견의 하루) / 기숙사  일상물 / 9.67\n",
            "김치걸 밀크티보이 / 국제결혼일상툰 / 9.86\n",
            "그들이 사는 세상 / 과고에서 1등하기 / 8.89\n",
            "땅거미들 / 미아들의 생존일지 / 9.70\n",
            "파운드캣 / 식빵을 닮은 고양이 / 9.89\n",
            "낯가리는 관종 / 낯가리는 관종일기 / 9.85\n",
            "8470원만 주면 KISS 해주는 놈 / 인터넷소설 세상으로 / 9.59\n",
            "거울 속 정원 / 거울 속 정원 / 8.49\n",
            "제목이 7080 만화 / 7080 이야기 / 9.89\n",
            "실험학교 / 변형자들의 학교 / 9.90\n",
            "산으로 가는 부부 / 산에서 일하면 / 9.84\n",
            "H O P E / 인류를 위한 임무 / 9.65\n",
            "연하는 별로 / 서린과 연하남과 썸 / 9.59\n",
            "아빠를 위하여 / 아빠와의 1년 / 9.90\n",
            "이름 없는 나에게 / 윤하와 주변 이야기 / 9.42\n",
            "아빠는 N살 / 아빠 4컷 그림일기 / 9.91\n",
            "난봉꾼의 메타픽스 / 장르를 지켜라 / 9.85\n",
            "가족이되는과정 / 아기천사가 찾아왔다 / 9.86\n",
            "북한의 아이 / 복희의 성장 스토리 / 8.96\n",
            "오늘을 위하여 / 홈포차 이야기 / 9.88\n",
            "국밥소녀 / 국밥에 미친 소녀 / 9.33\n",
            "THE / 자신을 찾을 이야기 / 9.77\n",
            "검의계승자 / 판타지 / 9.83\n",
            "중딩의 학교생활 / 중학생의 일상 / 8.34\n",
            "시바하루 (시바견의 하루) / 기숙사  일상물 / 9.67\n",
            "김치걸 밀크티보이 / 국제결혼일상툰 / 9.86\n"
          ]
        }
      ]
    }
  ]
}